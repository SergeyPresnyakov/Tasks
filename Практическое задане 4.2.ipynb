{
 "cells": [
  {
   "cell_type": "markdown",
   "metadata": {
    "id": "6hmx96_WfPKd"
   },
   "source": [
    "## Практическое задание 4.2"
   ]
  },
  {
   "cell_type": "code",
   "execution_count": 1,
   "metadata": {},
   "outputs": [],
   "source": [
    "import sympy as sym\n",
    "import numpy as np\n",
    "np.set_printoptions(precision=2, suppress=True)\n",
    "import warnings\n",
    "warnings.filterwarnings(\"ignore\")"
   ]
  },
  {
   "cell_type": "markdown",
   "metadata": {
    "id": "ZBi7FV66fPKf"
   },
   "source": [
    "__1.__ Решить систему уравнений методом Крамера:\n",
    "\n",
    "   а) $\\begin{cases}\n",
    "x_{1}-2x_{2}=1 \\\\\n",
    "3x_{1}-4x_{2}=7\n",
    "\\end{cases}$"
   ]
  },
  {
   "cell_type": "code",
   "execution_count": 2,
   "metadata": {},
   "outputs": [],
   "source": [
    "A = np.array([[1., -2.], [3., -4.]])\n",
    "A_1 = np.array([[1., -2.], [7., -4.]])\n",
    "A_2 = np.array([[1., 1.], [3., 7.]])\n",
    "B = np.array([1., 7.])"
   ]
  },
  {
   "cell_type": "code",
   "execution_count": 3,
   "metadata": {},
   "outputs": [
    {
     "data": {
      "text/plain": [
       "2.0000000000000004"
      ]
     },
     "execution_count": 3,
     "metadata": {},
     "output_type": "execute_result"
    }
   ],
   "source": [
    "det_A = np.linalg.det(A)\n",
    "det_A "
   ]
  },
  {
   "cell_type": "code",
   "execution_count": 4,
   "metadata": {},
   "outputs": [
    {
     "data": {
      "text/plain": [
       "4.999999999999998"
      ]
     },
     "execution_count": 4,
     "metadata": {},
     "output_type": "execute_result"
    }
   ],
   "source": [
    "X_1 = np.linalg.det(A_1)/det_A\n",
    "X_1"
   ]
  },
  {
   "cell_type": "code",
   "execution_count": 5,
   "metadata": {},
   "outputs": [
    {
     "data": {
      "text/plain": [
       "1.9999999999999991"
      ]
     },
     "execution_count": 5,
     "metadata": {},
     "output_type": "execute_result"
    }
   ],
   "source": [
    "X_2 = np.linalg.det(A_2)/det_A\n",
    "X_2"
   ]
  },
  {
   "cell_type": "markdown",
   "metadata": {},
   "source": [
    "Видим, что корни данной СЛАУ это 5 и 2. Проврим"
   ]
  },
  {
   "cell_type": "code",
   "execution_count": 6,
   "metadata": {},
   "outputs": [
    {
     "data": {
      "text/plain": [
       "array([5., 2.])"
      ]
     },
     "execution_count": 6,
     "metadata": {},
     "output_type": "execute_result"
    }
   ],
   "source": [
    "np.linalg.solve(A, B)"
   ]
  },
  {
   "cell_type": "markdown",
   "metadata": {},
   "source": [
    "Видим, что решение найдено верно"
   ]
  },
  {
   "cell_type": "markdown",
   "metadata": {
    "id": "ZBi7FV66fPKf"
   },
   "source": [
    "    \n",
    "   б) $\\begin{cases}\n",
    "2x_{1}-x_{2}+5x_{3}=10 \\\\\n",
    "x_{1}+x_{2}-3x_{3}=-2 \\\\\n",
    "2x_{1}+4x_{2}+x_{3}=1\n",
    "\\end{cases}$"
   ]
  },
  {
   "cell_type": "code",
   "execution_count": 7,
   "metadata": {},
   "outputs": [],
   "source": [
    "A = np.array([[2., -1., 5.], [1., 1., -3.], [2., 4., 1.]])\n",
    "A_1 = np.array([[10., -1., 5.], [-2., 1., -3.], [1., 4., 1.]])\n",
    "A_2 = np.array([[2., 10., 5.], [1., -2., -3.], [2., 1., 1.]])\n",
    "A_3 = np.array([[2., -1., 10.], [1., 1., -2.], [2., 4., 1.]])\n",
    "B = np.array([10., -2., 1.])"
   ]
  },
  {
   "cell_type": "code",
   "execution_count": 8,
   "metadata": {},
   "outputs": [
    {
     "data": {
      "text/plain": [
       "42.99999999999998"
      ]
     },
     "execution_count": 8,
     "metadata": {},
     "output_type": "execute_result"
    }
   ],
   "source": [
    "det_A = np.linalg.det(A)\n",
    "det_A "
   ]
  },
  {
   "cell_type": "code",
   "execution_count": 9,
   "metadata": {},
   "outputs": [
    {
     "data": {
      "text/plain": [
       "array([[ 2., -1.,  5.],\n",
       "       [ 1.,  1., -3.],\n",
       "       [ 2.,  4.,  1.]])"
      ]
     },
     "execution_count": 9,
     "metadata": {},
     "output_type": "execute_result"
    }
   ],
   "source": [
    "A"
   ]
  },
  {
   "cell_type": "code",
   "execution_count": 10,
   "metadata": {},
   "outputs": [
    {
     "data": {
      "text/plain": [
       "array([[ 2., -1., 10.],\n",
       "       [ 1.,  1., -2.],\n",
       "       [ 2.,  4.,  1.]])"
      ]
     },
     "execution_count": 10,
     "metadata": {},
     "output_type": "execute_result"
    }
   ],
   "source": [
    "A_3"
   ]
  },
  {
   "cell_type": "code",
   "execution_count": 11,
   "metadata": {},
   "outputs": [
    {
     "data": {
      "text/plain": [
       "2.0000000000000018"
      ]
     },
     "execution_count": 11,
     "metadata": {},
     "output_type": "execute_result"
    }
   ],
   "source": [
    "X_1 = np.linalg.det(A_1)/det_A\n",
    "X_1"
   ]
  },
  {
   "cell_type": "code",
   "execution_count": 12,
   "metadata": {},
   "outputs": [
    {
     "data": {
      "text/plain": [
       "-1.0000000000000009"
      ]
     },
     "execution_count": 12,
     "metadata": {},
     "output_type": "execute_result"
    }
   ],
   "source": [
    "X_2 = np.linalg.det(A_2)/det_A\n",
    "X_2"
   ]
  },
  {
   "cell_type": "code",
   "execution_count": 13,
   "metadata": {},
   "outputs": [
    {
     "data": {
      "text/plain": [
       "1.0"
      ]
     },
     "execution_count": 13,
     "metadata": {},
     "output_type": "execute_result"
    }
   ],
   "source": [
    "X_3 = np.linalg.det(A_3)/det_A\n",
    "X_3"
   ]
  },
  {
   "cell_type": "markdown",
   "metadata": {},
   "source": [
    "Видим, что корни данной СЛАУ это 2, -1 и 1. Проврим"
   ]
  },
  {
   "cell_type": "code",
   "execution_count": 14,
   "metadata": {},
   "outputs": [
    {
     "data": {
      "text/plain": [
       "array([ 2., -1.,  1.])"
      ]
     },
     "execution_count": 14,
     "metadata": {},
     "output_type": "execute_result"
    }
   ],
   "source": [
    "np.linalg.solve(A, B)"
   ]
  },
  {
   "cell_type": "markdown",
   "metadata": {},
   "source": [
    "Видим, что решение найдено верно"
   ]
  },
  {
   "cell_type": "markdown",
   "metadata": {
    "id": "ZBi7FV66fPKf"
   },
   "source": [
    "__2*.__ Найти $L$-матрицу $LU$-разложения для матрицы коэффициентов:\n",
    "\n",
    "   а)$$\\begin{pmatrix}\n",
    "1 & 2 & 4 \\\\ \n",
    "2 & 9 & 12 \\\\ \n",
    "3 & 26 & 30\n",
    "\\end{pmatrix}$$"
   ]
  },
  {
   "cell_type": "code",
   "execution_count": 15,
   "metadata": {
    "scrolled": true
   },
   "outputs": [
    {
     "data": {
      "text/plain": [
       "array([[ 1.,  2.,  4.],\n",
       "       [ 2.,  9., 12.],\n",
       "       [ 3., 26., 30.]])"
      ]
     },
     "execution_count": 15,
     "metadata": {},
     "output_type": "execute_result"
    }
   ],
   "source": [
    "A = np.array([[1., 2., 4.], [2., 9., 12.], [3., 26., 30.]])\n",
    "A"
   ]
  },
  {
   "cell_type": "markdown",
   "metadata": {},
   "source": [
    "Напишем функцию для поиска  L и U матриц"
   ]
  },
  {
   "cell_type": "code",
   "execution_count": 16,
   "metadata": {},
   "outputs": [],
   "source": [
    "def LU_decomposition(A):\n",
    "    global U, L\n",
    "    U = A\n",
    "    L = np.array(np.eye(len(A)))\n",
    "    for nrow in range(len(A)):\n",
    "        for i in range(nrow + 1):\n",
    "            if nrow != len(A) - 1:\n",
    "                L[nrow + 1][i] = U[nrow + 1][i] / U[i][i]\n",
    "                U[nrow + 1] = U[nrow + 1] - U[i] * (U[nrow + 1][i] / U[i][i])\n",
    "                \n",
    "            else:\n",
    "                break\n",
    "    print(\"Матрица U:\")\n",
    "    print(U)\n",
    "    print(\"Матрица L:\")\n",
    "    print(L)"
   ]
  },
  {
   "cell_type": "code",
   "execution_count": 17,
   "metadata": {
    "scrolled": true
   },
   "outputs": [
    {
     "name": "stdout",
     "output_type": "stream",
     "text": [
      "Матрица U:\n",
      "[[1. 2. 4.]\n",
      " [0. 5. 4.]\n",
      " [0. 0. 2.]]\n",
      "Матрица L:\n",
      "[[1. 0. 0.]\n",
      " [2. 1. 0.]\n",
      " [3. 4. 1.]]\n"
     ]
    }
   ],
   "source": [
    "LU_decomposition(A)"
   ]
  },
  {
   "cell_type": "markdown",
   "metadata": {},
   "source": [
    "Проверим правильность расчетов перемножением L на U"
   ]
  },
  {
   "cell_type": "code",
   "execution_count": 18,
   "metadata": {
    "scrolled": false
   },
   "outputs": [
    {
     "data": {
      "text/plain": [
       "array([[ 1.,  2.,  4.],\n",
       "       [ 2.,  9., 12.],\n",
       "       [ 3., 26., 30.]])"
      ]
     },
     "execution_count": 18,
     "metadata": {},
     "output_type": "execute_result"
    }
   ],
   "source": [
    "L @ U"
   ]
  },
  {
   "cell_type": "markdown",
   "metadata": {},
   "source": [
    "Видим, что матрицы L и U найдены правильно "
   ]
  },
  {
   "cell_type": "markdown",
   "metadata": {
    "id": "ZBi7FV66fPKf"
   },
   "source": [
    "    \n",
    "   б)$$\\begin{pmatrix}\n",
    "1 & 1 & 2 & 4\\\\ \n",
    "2 & 5 & 8 & 9\\\\ \n",
    "3 & 18 & 29 & 18\\\\\n",
    "4 & 22 & 53 & 33\n",
    "\\end{pmatrix}$$"
   ]
  },
  {
   "cell_type": "code",
   "execution_count": 19,
   "metadata": {
    "scrolled": true
   },
   "outputs": [
    {
     "data": {
      "text/plain": [
       "array([[ 1.,  1.,  2.,  4.],\n",
       "       [ 2.,  5.,  8.,  9.],\n",
       "       [ 3., 18., 29., 18.],\n",
       "       [ 4., 22., 53., 33.]])"
      ]
     },
     "execution_count": 19,
     "metadata": {},
     "output_type": "execute_result"
    }
   ],
   "source": [
    "A = np.array([[1., 1., 2., 4], [2., 5., 8., 9], [3., 18., 29., 18], [4., 22., 53., 33]])\n",
    "A"
   ]
  },
  {
   "cell_type": "code",
   "execution_count": 20,
   "metadata": {
    "scrolled": true
   },
   "outputs": [
    {
     "name": "stdout",
     "output_type": "stream",
     "text": [
      "Матрица U:\n",
      "[[1. 1. 2. 4.]\n",
      " [0. 3. 4. 1.]\n",
      " [0. 0. 3. 1.]\n",
      " [0. 0. 0. 4.]]\n",
      "Матрица L:\n",
      "[[1. 0. 0. 0.]\n",
      " [2. 1. 0. 0.]\n",
      " [3. 5. 1. 0.]\n",
      " [4. 6. 7. 1.]]\n"
     ]
    }
   ],
   "source": [
    "LU_decomposition(A)"
   ]
  },
  {
   "cell_type": "markdown",
   "metadata": {},
   "source": [
    "Проверим правильность расчетов перемножением L на U"
   ]
  },
  {
   "cell_type": "code",
   "execution_count": 21,
   "metadata": {
    "scrolled": false
   },
   "outputs": [
    {
     "data": {
      "text/plain": [
       "array([[ 1.,  1.,  2.,  4.],\n",
       "       [ 2.,  5.,  8.,  9.],\n",
       "       [ 3., 18., 29., 18.],\n",
       "       [ 4., 22., 53., 33.]])"
      ]
     },
     "execution_count": 21,
     "metadata": {},
     "output_type": "execute_result"
    }
   ],
   "source": [
    "L @ U"
   ]
  },
  {
   "cell_type": "markdown",
   "metadata": {},
   "source": [
    "Видим, что матрицы L и U найдены правильно "
   ]
  },
  {
   "cell_type": "markdown",
   "metadata": {
    "id": "ZBi7FV66fPKf"
   },
   "source": [
    "    \n",
    "__3*.__ Решить систему линейных уравнений методом $LU$-разложения\n",
    "\n",
    "$$\\begin{cases}\n",
    "2x_{1}+x_{2}+3x_{3}=1 \\\\\n",
    "11x_{1}+7x_{2}+5x_{3}=-6 \\\\\n",
    "9x_{1}+8x_{2}+4x_{3}=-5\n",
    "\\end{cases}$$"
   ]
  },
  {
   "cell_type": "code",
   "execution_count": 22,
   "metadata": {},
   "outputs": [],
   "source": [
    "np.set_printoptions(precision=10, floatmode='fixed')"
   ]
  },
  {
   "cell_type": "code",
   "execution_count": 23,
   "metadata": {},
   "outputs": [
    {
     "data": {
      "text/plain": [
       "array([[ 2.0000000000,  1.0000000000,  3.0000000000],\n",
       "       [11.0000000000,  7.0000000000,  5.0000000000],\n",
       "       [ 9.0000000000,  8.0000000000,  4.0000000000]])"
      ]
     },
     "execution_count": 23,
     "metadata": {},
     "output_type": "execute_result"
    }
   ],
   "source": [
    "A = np.array([[2., 1., 3.], [11., 7., 5.], [9., 8., 4.]])\n",
    "A"
   ]
  },
  {
   "cell_type": "code",
   "execution_count": 24,
   "metadata": {
    "scrolled": false
   },
   "outputs": [
    {
     "name": "stdout",
     "output_type": "stream",
     "text": [
      "Матрица U:\n",
      "[[  2.0000000000   1.0000000000   3.0000000000]\n",
      " [  0.0000000000   1.5000000000 -11.5000000000]\n",
      " [  0.0000000000   0.0000000000  17.3333333333]]\n",
      "Матрица L:\n",
      "[[1.0000000000 0.0000000000 0.0000000000]\n",
      " [5.5000000000 1.0000000000 0.0000000000]\n",
      " [4.5000000000 2.3333333333 1.0000000000]]\n"
     ]
    }
   ],
   "source": [
    "LU_decomposition(A)"
   ]
  },
  {
   "cell_type": "markdown",
   "metadata": {},
   "source": [
    "Проверим правильность расчетов перемножением L на U"
   ]
  },
  {
   "cell_type": "code",
   "execution_count": 25,
   "metadata": {
    "scrolled": false
   },
   "outputs": [
    {
     "data": {
      "text/plain": [
       "array([[ 2.0000000000,  1.0000000000,  3.0000000000],\n",
       "       [11.0000000000,  7.0000000000,  5.0000000000],\n",
       "       [ 9.0000000000,  8.0000000000,  4.0000000000]])"
      ]
     },
     "execution_count": 25,
     "metadata": {},
     "output_type": "execute_result"
    }
   ],
   "source": [
    "L @ U"
   ]
  },
  {
   "cell_type": "markdown",
   "metadata": {},
   "source": [
    "Видим, что матрицы L и U найдены правильно "
   ]
  },
  {
   "cell_type": "markdown",
   "metadata": {},
   "source": [
    "Решим теперь систему \n",
    "\n",
    "$$Ly=b:$$\n",
    "\n",
    "$$\\begin{cases}\n",
    "y_{1}=1, \\\\\n",
    "5.5y_{1}+y_{2}=-6, \\\\\n",
    "4.5y_{1}+2.33y_{2}+y_{3}=-5.\n",
    "\\end{cases}$$\n",
    "\n",
    "$$y_{1}=1,$$\n",
    "$$y_{2}=-11.5,$$\n",
    "$$y_{3}=17.33333333295$$"
   ]
  },
  {
   "cell_type": "markdown",
   "metadata": {},
   "source": [
    "И затем систему\n",
    "\n",
    "$$Ux=y:$$\n",
    "\n",
    "$$\\begin{cases}\n",
    "2x_{1}+x_{2}+3x_{3}=1, \\\\\n",
    "1.5x_{2} - 11.5x_{3}=-11.5, \\\\\n",
    "17.33x_{3}=17.33333333295.\n",
    "\\end{cases}$$\n",
    "\n",
    "$$x_{3}=1,$$\n",
    "$$x_{2}=0,$$\n",
    "$$x_{1}=-1.$$"
   ]
  },
  {
   "cell_type": "markdown",
   "metadata": {},
   "source": [
    "Произведем проверку, подставив полученные значения переменных в исходную систему:"
   ]
  },
  {
   "cell_type": "code",
   "execution_count": 26,
   "metadata": {},
   "outputs": [
    {
     "data": {
      "text/plain": [
       "1"
      ]
     },
     "execution_count": 26,
     "metadata": {},
     "output_type": "execute_result"
    }
   ],
   "source": [
    "2 * (-1) - 0 + 3*1"
   ]
  },
  {
   "cell_type": "code",
   "execution_count": 27,
   "metadata": {
    "scrolled": true
   },
   "outputs": [
    {
     "data": {
      "text/plain": [
       "-6"
      ]
     },
     "execution_count": 27,
     "metadata": {},
     "output_type": "execute_result"
    }
   ],
   "source": [
    "11 * (-1) - 7 * 0 + 5*1"
   ]
  },
  {
   "cell_type": "code",
   "execution_count": 28,
   "metadata": {
    "scrolled": false
   },
   "outputs": [
    {
     "data": {
      "text/plain": [
       "-5"
      ]
     },
     "execution_count": 28,
     "metadata": {},
     "output_type": "execute_result"
    }
   ],
   "source": [
    "9 * (-1) - 8 * 0 + 4*1"
   ]
  },
  {
   "cell_type": "markdown",
   "metadata": {},
   "source": [
    "Таким образом, видим, что найденное решение верно."
   ]
  },
  {
   "cell_type": "markdown",
   "metadata": {},
   "source": [
    "Проверим с помощью библиотеки питона"
   ]
  },
  {
   "cell_type": "code",
   "execution_count": 29,
   "metadata": {},
   "outputs": [],
   "source": [
    "A = np.array([[2.,  1.,  3.], [11.,  7.,  5.], [9.,  8.,  4.]])\n",
    "B = np.array([1., -6., -5.])"
   ]
  },
  {
   "cell_type": "code",
   "execution_count": 30,
   "metadata": {},
   "outputs": [
    {
     "data": {
      "text/plain": [
       "array([-1.0000000000,  0.0000000000,  1.0000000000])"
      ]
     },
     "execution_count": 30,
     "metadata": {},
     "output_type": "execute_result"
    }
   ],
   "source": [
    "np.linalg.solve(A, B)"
   ]
  },
  {
   "cell_type": "markdown",
   "metadata": {},
   "source": [
    "Видим,что корни найдены верно"
   ]
  },
  {
   "cell_type": "markdown",
   "metadata": {
    "id": "ZBi7FV66fPKf"
   },
   "source": [
    "__4*.__ Решить систему линейных уравнений методом Холецкого\n",
    "\n",
    "$$\\begin{cases}\n",
    "81x_{1}-45x_{2}+45x_{3}=531 \\\\\n",
    "-45x_{1}+50x_{2}-15x_{3}=-460 \\\\\n",
    "45x_{1}-15x_{2}+38x_{3}=193\n",
    "\\end{cases}$$"
   ]
  },
  {
   "cell_type": "code",
   "execution_count": 31,
   "metadata": {},
   "outputs": [
    {
     "data": {
      "text/plain": [
       "array([[ 81.00, -45.00,  45.00],\n",
       "       [-45.00,  50.00, -15.00],\n",
       "       [ 45.00, -15.00,  38.00]])"
      ]
     },
     "execution_count": 31,
     "metadata": {},
     "output_type": "execute_result"
    }
   ],
   "source": [
    "np.set_printoptions(precision=2, floatmode='fixed')\n",
    "A = np.array([[81., -45., 45.], [-45., 50., -15.], [45., -15., 38.]])\n",
    "B = np.array([531., -460., 193.])\n",
    "A"
   ]
  },
  {
   "cell_type": "markdown",
   "metadata": {},
   "source": [
    "Произведем разложение на $LL^{T}$:\n",
    "\n",
    "$$l_{11}=\\sqrt{a_{11}}=\\sqrt{81} = 9,$$\n",
    "$$l_{21}=\\frac{a_{21}}{l_{11}}= -5,$$\n",
    "$$l_{31}=\\frac{a_{31}}{l_{11}}=5,$$\n",
    "\n",
    "$$l_{22}=\\sqrt{a_{22}-l_{21}^{2}}=5,$$\n",
    "$$l_{32}=\\frac{1}{l_{22}}\\left ( a_{32}-l_{21}l_{31} \\right)=2,$$\n",
    "\n",
    "$$l_{33}=\\sqrt{a_{33}-l_{31}^{2}-l_{32}^{2}}=\\sqrt{14-8-2}=3.$$\n"
   ]
  },
  {
   "cell_type": "markdown",
   "metadata": {},
   "source": [
    "Получили матрицу"
   ]
  },
  {
   "cell_type": "code",
   "execution_count": 32,
   "metadata": {
    "scrolled": true
   },
   "outputs": [
    {
     "data": {
      "text/plain": [
       "array([[ 9.00,  0.00,  0.00],\n",
       "       [-5.00,  5.00,  0.00],\n",
       "       [ 5.00,  2.00,  3.00]])"
      ]
     },
     "execution_count": 32,
     "metadata": {},
     "output_type": "execute_result"
    }
   ],
   "source": [
    "L = np.array([[9., 0., 0.], [-5., 5., 0.], [5., 2., 3.]])\n",
    "L"
   ]
  },
  {
   "cell_type": "markdown",
   "metadata": {},
   "source": [
    "Получим $L^T$"
   ]
  },
  {
   "cell_type": "code",
   "execution_count": 33,
   "metadata": {},
   "outputs": [
    {
     "data": {
      "text/plain": [
       "array([[ 9.00, -5.00,  5.00],\n",
       "       [ 0.00,  5.00,  2.00],\n",
       "       [ 0.00,  0.00,  3.00]])"
      ]
     },
     "execution_count": 33,
     "metadata": {},
     "output_type": "execute_result"
    }
   ],
   "source": [
    "L.T"
   ]
  },
  {
   "cell_type": "markdown",
   "metadata": {},
   "source": [
    "Решим теперь систему \n",
    "\n",
    "$$Ly=b:$$\n",
    "\n",
    "$$\\begin{cases}\n",
    "9y_{1}=531, \\\\\n",
    "-5y_{1}+5y_{2}=-460, \\\\\n",
    "5y_{1}+2y_{2}+3y_{3}=193.\n",
    "\\end{cases}$$\n",
    "\n",
    "$$y_{1}=59,$$\n",
    "$$y_{2}=-33,$$\n",
    "$$y_{3}=-12.$$"
   ]
  },
  {
   "cell_type": "markdown",
   "metadata": {},
   "source": [
    "И затем систему\n",
    "\n",
    "$$L^{T}x=y:$$\n",
    "\n",
    "$$\\begin{cases}\n",
    "9x_{1}-5x_{2}+5x_{3}=59, \\\\\n",
    "5x_{2} +2x_{3}=-33, \\\\\n",
    "3x_{3}=-12.\n",
    "\\end{cases}$$\n",
    "\n",
    "$$x_{3}=-4,$$\n",
    "$$x_{2}=-5,$$\n",
    "$$x_{1}=6.$$"
   ]
  },
  {
   "cell_type": "markdown",
   "metadata": {},
   "source": [
    "Проверим"
   ]
  },
  {
   "cell_type": "code",
   "execution_count": 34,
   "metadata": {},
   "outputs": [
    {
     "data": {
      "text/plain": [
       "array([ 6.00, -5.00, -4.00])"
      ]
     },
     "execution_count": 34,
     "metadata": {},
     "output_type": "execute_result"
    }
   ],
   "source": [
    "np.linalg.solve(A, B)"
   ]
  },
  {
   "cell_type": "markdown",
   "metadata": {},
   "source": [
    "Видим,что корни найдены верно"
   ]
  },
  {
   "cell_type": "markdown",
   "metadata": {
    "id": "ZBi7FV66fPKf"
   },
   "source": [
    "__5*.__ Написать на Python программу с реализацией одного из изученных алгоритмов решения СЛАУ."
   ]
  },
  {
   "cell_type": "code",
   "execution_count": 35,
   "metadata": {},
   "outputs": [],
   "source": [
    "def solv_equations(A):\n",
    "    for nrow in range(len(A)):\n",
    "        for i in range(nrow + 1):\n",
    "            if nrow != len(A) - 1:\n",
    "                A[nrow + 1] = A[nrow + 1] - A[i] * (A[nrow + 1][i] / A[i][i])\n",
    "            else:\n",
    "                break\n",
    "    print(\"Диагональная матрица:\")\n",
    "    print(A)\n",
    "    roots = []\n",
    "    if np.count_nonzero(A[len(A)-1])==2:\n",
    "        for i in reversed(range(1, len(A) + 1)):\n",
    "            x = (A[i - 1][len(A)] / A[i - 1][i - 1])\n",
    "            roots.append(x)\n",
    "            A[:, i - 1] = A[:, i - 1] * x\n",
    "            A[:, len(A)] = A[:, len(A)] - A[:, i - 1]\n",
    "        print(\"Данная СЛАУ является совместной со следующими корнями: \", roots[::-1])\n",
    "        \n",
    "    elif np.count_nonzero(A[len(A)-1]) < 2 or np.count_nonzero(A[len(A)-2]) < 2:\n",
    "        print(\"Диагональная матрица:\")\n",
    "        print(A)\n",
    "        print(\"Данная СЛАУ является несовместной и решений не имеет\")\n",
    "    \n",
    "    elif np.count_nonzero(A[len(A)-1]) > 2:\n",
    "        print(\"Диагональная матрица:\")\n",
    "        print(A)\n",
    "        print(\"Данная СЛАУ является совместной и имеет бесконечное множество решений\")  "
   ]
  },
  {
   "cell_type": "markdown",
   "metadata": {},
   "source": [
    "Проверим функцию"
   ]
  },
  {
   "cell_type": "code",
   "execution_count": 36,
   "metadata": {},
   "outputs": [
    {
     "data": {
      "text/plain": [
       "array([[  3.00,  -1.00,   1.00,   4.00],\n",
       "       [  2.00,  -5.00,  -3.00, -17.00],\n",
       "       [  1.00,   1.00,  -1.00,   0.00]])"
      ]
     },
     "execution_count": 36,
     "metadata": {},
     "output_type": "execute_result"
    }
   ],
   "source": [
    "A = np.array([[3., -1., 1., 4.], [2., -5., -3., -17.], [1., 1., -1., 0.]])\n",
    "A"
   ]
  },
  {
   "cell_type": "code",
   "execution_count": 37,
   "metadata": {},
   "outputs": [
    {
     "name": "stdout",
     "output_type": "stream",
     "text": [
      "Диагональная матрица:\n",
      "[[  3.00  -1.00   1.00   4.00]\n",
      " [  0.00  -4.33  -3.67 -19.67]\n",
      " [  0.00   0.00  -2.46  -7.38]]\n",
      "Данная СЛАУ является совместной со следующими корнями:  [1.0000000000000002, 2.0000000000000004, 3.0]\n"
     ]
    }
   ],
   "source": [
    "solv_equations(A)"
   ]
  },
  {
   "cell_type": "markdown",
   "metadata": {},
   "source": [
    "Проверим"
   ]
  },
  {
   "cell_type": "code",
   "execution_count": 38,
   "metadata": {},
   "outputs": [],
   "source": [
    "A = np.array([[3.,  -1.,   1.], [2.,  -5.,  -3.], [1.,   1.,  -1.]])\n",
    "B = np.array([4., -17., 0.])"
   ]
  },
  {
   "cell_type": "code",
   "execution_count": 39,
   "metadata": {},
   "outputs": [
    {
     "data": {
      "text/plain": [
       "array([1.00, 2.00, 3.00])"
      ]
     },
     "execution_count": 39,
     "metadata": {},
     "output_type": "execute_result"
    }
   ],
   "source": [
    "np.linalg.solve(A, B)"
   ]
  },
  {
   "cell_type": "markdown",
   "metadata": {},
   "source": [
    "Видим,что корни найдены верно"
   ]
  }
 ],
 "metadata": {
  "colab": {
   "collapsed_sections": [],
   "name": "Lesson_7-REVISED.ipynb",
   "provenance": []
  },
  "kernelspec": {
   "display_name": "Python 3",
   "language": "python",
   "name": "python3"
  },
  "language_info": {
   "codemirror_mode": {
    "name": "ipython",
    "version": 3
   },
   "file_extension": ".py",
   "mimetype": "text/x-python",
   "name": "python",
   "nbconvert_exporter": "python",
   "pygments_lexer": "ipython3",
   "version": "3.7.4"
  }
 },
 "nbformat": 4,
 "nbformat_minor": 1
}
