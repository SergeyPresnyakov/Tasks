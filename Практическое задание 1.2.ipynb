{
 "cells": [
  {
   "cell_type": "markdown",
   "metadata": {
    "id": "rnPVQP84c7cu"
   },
   "source": [
    "## Практическое задание 1.2"
   ]
  },
  {
   "cell_type": "code",
   "execution_count": 1,
   "metadata": {},
   "outputs": [],
   "source": [
    "import numpy as np\n",
    "from numpy.linalg import norm"
   ]
  },
  {
   "cell_type": "markdown",
   "metadata": {
    "id": "81d4BnNXc7cy"
   },
   "source": [
    "__1.__ Найти скалярное произведение векторов $x, y \\in \\mathbb{R}$:<br>\n",
    "а) $x=(0,-3, 6),~y=(-4, 7, 9);$<br>  \n",
    "$(x, ~y) = 0\\cdot(-4)+(-3)\\cdot{7}+6\\cdot{9}=33$"
   ]
  },
  {
   "cell_type": "code",
   "execution_count": 2,
   "metadata": {},
   "outputs": [
    {
     "name": "stdout",
     "output_type": "stream",
     "text": [
      "Скалярное произведение a и b: 33\n"
     ]
    }
   ],
   "source": [
    "a = np.array([0,-3, 6])\n",
    "b = np.array([-4, 7, 9])\n",
    "print(f'Скалярное произведение a и b: {a @ b}')"
   ]
  },
  {
   "cell_type": "markdown",
   "metadata": {
    "id": "81d4BnNXc7cy"
   },
   "source": [
    "б) $x=(7, -4, 0, 1),~y=(-3, 1, 11, 2)$   \n",
    "$(x, ~y) = 7\\cdot(-3)+(-4)\\cdot{1}+0\\cdot{11}+1\\cdot{2}=-23$"
   ]
  },
  {
   "cell_type": "code",
   "execution_count": 3,
   "metadata": {},
   "outputs": [
    {
     "name": "stdout",
     "output_type": "stream",
     "text": [
      "Скалярное произведение a и b: -23\n"
     ]
    }
   ],
   "source": [
    "a = np.array([7,-4,0,1])\n",
    "b = np.array([-3,1,11,2])\n",
    "print(f'Скалярное произведение a и b: {a @ b}')"
   ]
  },
  {
   "cell_type": "markdown",
   "metadata": {
    "id": "81d4BnNXc7cy"
   },
   "source": [
    "__2.__ Найти нормы векторов $(4, 2, 4)$ и $(12, 3, 4)$ и угол между ними.  \n",
    "Зададим вектор $a=(4, 2, 4)$  \n",
    "Зададим вектор $b=(12, 3, 4)$  \n"
   ]
  },
  {
   "cell_type": "code",
   "execution_count": 4,
   "metadata": {},
   "outputs": [],
   "source": [
    "a = np.array([4, 2, 4])\n",
    "b = np.array([12, 3, 4])"
   ]
  },
  {
   "cell_type": "markdown",
   "metadata": {
    "id": "KskdkMSkc7ay"
   },
   "source": [
    "Определим манхэттенскую норму вектора $a$:\n",
    "\n",
    "$$\\left\\|x\\right\\|_{1} = |4|+|2|+|4|=10$$"
   ]
  },
  {
   "cell_type": "code",
   "execution_count": 5,
   "metadata": {
    "colab": {
     "base_uri": "https://localhost:8080/"
    },
    "id": "M-c6m83dXVWQ",
    "outputId": "f8b1a7e2-8ca7-49fa-dfd0-2e144636ba48",
    "scrolled": true
   },
   "outputs": [
    {
     "name": "stdout",
     "output_type": "stream",
     "text": [
      "l1 Манхетовская норма вектора a: 10.0\n"
     ]
    }
   ],
   "source": [
    "print(f'l1 Манхетовская норма вектора a: {norm(a, ord=1)}')"
   ]
  },
  {
   "cell_type": "markdown",
   "metadata": {
    "id": "KskdkMSkc7ay"
   },
   "source": [
    "Определим манхэттенскую норму вектора $b$:\n",
    "\n",
    "$$\\left\\|x\\right\\|_{1} = |12|+|3|+|4|=19$$"
   ]
  },
  {
   "cell_type": "code",
   "execution_count": 6,
   "metadata": {
    "colab": {
     "base_uri": "https://localhost:8080/"
    },
    "id": "M-c6m83dXVWQ",
    "outputId": "f8b1a7e2-8ca7-49fa-dfd0-2e144636ba48",
    "scrolled": true
   },
   "outputs": [
    {
     "name": "stdout",
     "output_type": "stream",
     "text": [
      "l1 Манхетовская норма вектора b: 19.0\n"
     ]
    }
   ],
   "source": [
    "print(f'l1 Манхетовская норма вектора b: {norm(b, ord=1)}')"
   ]
  },
  {
   "cell_type": "markdown",
   "metadata": {
    "id": "DmZb7h1Lc7a5"
   },
   "source": [
    "Определим евклидову норму вектора $a$:\n",
    "\n",
    "$$\\left\\|x\\right\\|_{2} = \\sqrt{4^{2}+2^{2}+4^{2}}=6.$$"
   ]
  },
  {
   "cell_type": "code",
   "execution_count": 7,
   "metadata": {
    "colab": {
     "base_uri": "https://localhost:8080/"
    },
    "id": "yQVpUMwCXaxq",
    "outputId": "0da29ef1-f871-4a38-859e-79bec748b32e"
   },
   "outputs": [
    {
     "name": "stdout",
     "output_type": "stream",
     "text": [
      "l2 Евклидова норма вектора а:\n",
      "6.0\n"
     ]
    }
   ],
   "source": [
    "print(f'l2 Евклидова норма вектора а:\\n{norm(a, ord=2)}')"
   ]
  },
  {
   "cell_type": "markdown",
   "metadata": {
    "id": "DmZb7h1Lc7a5"
   },
   "source": [
    "Определим евклидову норму вектора $b$:\n",
    "\n",
    "$$\\left\\|x\\right\\|_{2} = \\sqrt{12^{2}+3^{2}+4^{2}}=13$$"
   ]
  },
  {
   "cell_type": "code",
   "execution_count": 8,
   "metadata": {
    "colab": {
     "base_uri": "https://localhost:8080/"
    },
    "id": "yQVpUMwCXaxq",
    "outputId": "0da29ef1-f871-4a38-859e-79bec748b32e",
    "scrolled": true
   },
   "outputs": [
    {
     "name": "stdout",
     "output_type": "stream",
     "text": [
      "l2 Евклидова норма вектора b: 13.0\n"
     ]
    }
   ],
   "source": [
    "print(f'l2 Евклидова норма вектора b: {norm(b, ord=2)}')"
   ]
  },
  {
   "cell_type": "markdown",
   "metadata": {},
   "source": [
    "В любом вещественном евклидовом пространстве можно ввести понятие _угла_ между двумя произвольными элементами $x$ и $y$. Углом $\\varphi \\in [0, \\pi]$ между этими элементами является угол, косинус которого определяется соотношением\n",
    "\n",
    "$$cos\\varphi = \\frac{(x,y)}{\\left \\|x\\right \\|\\cdot\\left \\|y\\right \\|}.$$  \n",
    "Исходя из этого, угол между векторами а и b будет равен:  \n",
    "\n",
    "$$cos\\varphi = \\frac{4\\cdot12+2\\cdot3+4\\cdot4}{6\\cdot13}\\approx 0.9$$\n"
   ]
  },
  {
   "cell_type": "code",
   "execution_count": 9,
   "metadata": {},
   "outputs": [
    {
     "name": "stdout",
     "output_type": "stream",
     "text": [
      "Косинус угла между a и b: 0.90\n",
      "Угол между a и b в радианах: 0.46\n",
      "Угол между a и b в градусах: 26.18\n"
     ]
    }
   ],
   "source": [
    "cos_phi = np.dot(a, b) / norm(a) / norm(b)\n",
    "print(f'Косинус угла между a и b: {cos_phi:.2f}')\n",
    "print(f'Угол между a и b в радианах: {np.arccos(cos_phi):.2f}')\n",
    "print(f'Угол между a и b в градусах: {np.arccos(cos_phi) * 180 / np.pi:.2f}')"
   ]
  },
  {
   "cell_type": "markdown",
   "metadata": {
    "id": "81d4BnNXc7cy"
   },
   "source": [
    "__3.__ Будет ли линейное пространство евклидовым, если за скалярное произведение принять:<br>\n",
    "\n",
    "\n",
    "а) произведение длин векторов;<br>  \n",
    "\n",
    "Из школьной программы известно, что в стандартном понимании в трехмерном пространстве скалярное произведение двух векторов определяется как произведение длин этих векторов на косинус угла между ними:\n",
    "\n",
    "$$(x, y) = \\left|x\\right|\\cdot\\left|y\\right|\\cdot cos\\alpha.$$  \n",
    "Это справедливо касается любого n-мерного пространства. Из этого следует, что линейное пространство не будет евклидовым, если за скалярное произведение принять простое произведение длин векторов без дальнейшего произведения на косинус угла между ними.\n"
   ]
  },
  {
   "cell_type": "markdown",
   "metadata": {},
   "source": [
    "б) утроенное обычное скалярное произведение векторов?<br>"
   ]
  },
  {
   "cell_type": "markdown",
   "metadata": {},
   "source": [
    "Посмотрим выполняются ли для данного утверждения следующие четыре аксиомы:<br>\n",
    "1) $(x,y)=(y,x);$<br>\n",
    "2) $(\\lambda x, y)=\\lambda(x, y);$<br>\n",
    "3) $(x_{1}+x_{2},y)=(x_{1},y)+(x_{2},y);$<br>\n",
    "4) $(x, x)\\geq0$, причем $(x,x)=0\\Leftrightarrow x=0.$\n"
   ]
  },
  {
   "cell_type": "markdown",
   "metadata": {},
   "source": [
    "Проверим это на примере векторов $(4, 2, 4)$, $(12, 3, 4)$ b $(0, -3, 6)$  \n",
    "Зададим вектор $a=(4, 2, 4)$  \n",
    "Зададим вектор $b=(12, 3, 4)$  \n",
    "Зададим вектор $c=(0,-3, 6)$"
   ]
  },
  {
   "cell_type": "code",
   "execution_count": 10,
   "metadata": {},
   "outputs": [],
   "source": [
    "a = np.array([4, 2, 4])\n",
    "b = np.array([12, 3, 4])\n",
    "c = np.array([0,-3, 6])"
   ]
  },
  {
   "cell_type": "code",
   "execution_count": 11,
   "metadata": {},
   "outputs": [
    {
     "data": {
      "text/plain": [
       "True"
      ]
     },
     "execution_count": 11,
     "metadata": {},
     "output_type": "execute_result"
    }
   ],
   "source": [
    "3 * (a @ b) == 3 * (b @ a)"
   ]
  },
  {
   "cell_type": "code",
   "execution_count": 12,
   "metadata": {},
   "outputs": [
    {
     "data": {
      "text/plain": [
       "True"
      ]
     },
     "execution_count": 12,
     "metadata": {},
     "output_type": "execute_result"
    }
   ],
   "source": [
    "((3 * b) @ a) == (3 * (b @ a))"
   ]
  },
  {
   "cell_type": "code",
   "execution_count": 13,
   "metadata": {},
   "outputs": [
    {
     "data": {
      "text/plain": [
       "True"
      ]
     },
     "execution_count": 13,
     "metadata": {},
     "output_type": "execute_result"
    }
   ],
   "source": [
    "3*((a + c) @ b) == 3 * (a @ b) + 3 * (c  @ b)"
   ]
  },
  {
   "cell_type": "code",
   "execution_count": 14,
   "metadata": {
    "scrolled": true
   },
   "outputs": [
    {
     "data": {
      "text/plain": [
       "True"
      ]
     },
     "execution_count": 14,
     "metadata": {},
     "output_type": "execute_result"
    }
   ],
   "source": [
    "3*(a @ a) >= 0"
   ]
  },
  {
   "cell_type": "markdown",
   "metadata": {},
   "source": [
    "Видим, что все четыре аксиомы справедливы для утроенного обычного скалярного произведение векторов. Следовательно, линейное пространство будет евклидовым, если за скалярное произведение принять утроенного обычного скалярного произведение векторов."
   ]
  },
  {
   "cell_type": "markdown",
   "metadata": {
    "id": "81d4BnNXc7cy"
   },
   "source": [
    "__4.__ Какие из нижеперечисленных векторов образуют ортонормированный базис в линейном пространстве $\\mathbb{R}^{3}$:<br>\n",
    "а) $(1,0,0),(0,0,1);$ <br>\n",
    "б) $(1/\\sqrt{2},-1/\\sqrt{2},0),(1/\\sqrt{2},1/\\sqrt{2},0), (0,0,1);$<br>\n",
    "в) $(1/2, -1/2, 0), (0, 1/2, 1/2), (0,0,1);$<br>\n",
    "г) $(1,0,0),(0,1,0),(0,0,1)?$\n",
    "\n",
    "__Ответ:__  \n",
    "Вариант а) не подходти так как там всего два вектора. А два вектора не могут образовывать базис трехмерного пространства.  \n",
    "Проверим вариант б)"
   ]
  },
  {
   "cell_type": "markdown",
   "metadata": {
    "id": "81d4BnNXc7cy"
   },
   "source": [
    "В конечномерном евклидовом пространстве базис $\\{e_{1},e_{2},...,e_{n}\\}$ называется ортонормированным, если \n",
    "\n",
    "$(e_{i}, e_{j})=0$ $\\forall$ $i\\neq j$ и $(e_{i},e_{i})=1$ $\\forall$ $i\\in[1, n].$  "
   ]
  },
  {
   "cell_type": "markdown",
   "metadata": {},
   "source": [
    "Проверим на эти свойства базис б)"
   ]
  },
  {
   "cell_type": "code",
   "execution_count": 15,
   "metadata": {},
   "outputs": [],
   "source": [
    "a = np.array([1/2**(1/2), -1/2**(1/2), 0])\n",
    "b = np.array([1/2**(1/2), 1/2**(1/2), 0])\n",
    "c = np.array([0, 0, 1])"
   ]
  },
  {
   "cell_type": "code",
   "execution_count": 16,
   "metadata": {},
   "outputs": [],
   "source": [
    "def scalar_product(a, b, c):\n",
    "    print(f\"Скалярное произведение векторов a и b: {a @ b}\")\n",
    "    print(f\"Скалярное произведение векторов a и c: {a @ c}\")\n",
    "    print(f\"Скалярное произведение векторов b и с: {b @ c}\")\n",
    "    print(f\"Скалярное произведение векторов b и с: {a @ a}\")\n",
    "    print(f\"Скалярное произведение векторов b и с: {b @ b}\")\n",
    "    print(f\"Скалярное произведение векторов b и с: {c @ c}\")"
   ]
  },
  {
   "cell_type": "code",
   "execution_count": 17,
   "metadata": {},
   "outputs": [
    {
     "name": "stdout",
     "output_type": "stream",
     "text": [
      "Скалярное произведение векторов a и b: 0.0\n",
      "Скалярное произведение векторов a и c: 0.0\n",
      "Скалярное произведение векторов b и с: 0.0\n",
      "Скалярное произведение векторов b и с: 0.9999999999999998\n",
      "Скалярное произведение векторов b и с: 0.9999999999999998\n",
      "Скалярное произведение векторов b и с: 1\n"
     ]
    }
   ],
   "source": [
    "scalar_product(a, b, c)"
   ]
  },
  {
   "cell_type": "markdown",
   "metadata": {},
   "source": [
    "Видим, что базис б) удовлетворяет свойствам ортонормированного базиса. Соответственно является таковым. "
   ]
  },
  {
   "cell_type": "markdown",
   "metadata": {},
   "source": [
    "Проверим на эти свойства базис в)"
   ]
  },
  {
   "cell_type": "code",
   "execution_count": 18,
   "metadata": {},
   "outputs": [],
   "source": [
    "a = np.array([1/2, -1/2, 0])\n",
    "b = np.array([0, 1/2, 1/2])\n",
    "c = np.array([0, 0, 1])"
   ]
  },
  {
   "cell_type": "code",
   "execution_count": 19,
   "metadata": {},
   "outputs": [
    {
     "name": "stdout",
     "output_type": "stream",
     "text": [
      "Скалярное произведение векторов a и b: -0.25\n",
      "Скалярное произведение векторов a и c: 0.0\n",
      "Скалярное произведение векторов b и с: 0.5\n",
      "Скалярное произведение векторов b и с: 0.5\n",
      "Скалярное произведение векторов b и с: 0.5\n",
      "Скалярное произведение векторов b и с: 1\n"
     ]
    }
   ],
   "source": [
    "scalar_product(a, b, c)"
   ]
  },
  {
   "cell_type": "markdown",
   "metadata": {},
   "source": [
    "Видим, что базис в) не удовлетворяет свойствам ортонормированного базиса. Соответственно не является таковым. "
   ]
  },
  {
   "cell_type": "markdown",
   "metadata": {},
   "source": [
    "Проверим на эти свойства базис г)"
   ]
  },
  {
   "cell_type": "code",
   "execution_count": 20,
   "metadata": {},
   "outputs": [],
   "source": [
    "a = np.array([1,0,0])\n",
    "b = np.array([0,1,0])\n",
    "c = np.array([0,0,1])"
   ]
  },
  {
   "cell_type": "code",
   "execution_count": 21,
   "metadata": {},
   "outputs": [
    {
     "name": "stdout",
     "output_type": "stream",
     "text": [
      "Скалярное произведение векторов a и b: 0\n",
      "Скалярное произведение векторов a и c: 0\n",
      "Скалярное произведение векторов b и с: 0\n",
      "Скалярное произведение векторов b и с: 1\n",
      "Скалярное произведение векторов b и с: 1\n",
      "Скалярное произведение векторов b и с: 1\n"
     ]
    }
   ],
   "source": [
    "scalar_product(a, b, c)"
   ]
  },
  {
   "cell_type": "markdown",
   "metadata": {},
   "source": [
    "Видим, что базис г) удовлетворяет свойствам ортонормированного базиса. Соответственно является таковым. "
   ]
  }
 ],
 "metadata": {
  "colab": {
   "collapsed_sections": [],
   "name": "Линейная алгебра. Урок 1. Линейное пространство. Основные понятия. Часть 2.ipynb",
   "provenance": []
  },
  "kernelspec": {
   "display_name": "Python 3",
   "language": "python",
   "name": "python3"
  },
  "language_info": {
   "codemirror_mode": {
    "name": "ipython",
    "version": 3
   },
   "file_extension": ".py",
   "mimetype": "text/x-python",
   "name": "python",
   "nbconvert_exporter": "python",
   "pygments_lexer": "ipython3",
   "version": "3.7.4"
  }
 },
 "nbformat": 4,
 "nbformat_minor": 1
}
