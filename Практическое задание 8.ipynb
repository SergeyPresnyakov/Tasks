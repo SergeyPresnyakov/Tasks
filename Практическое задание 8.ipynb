{
 "cells": [
  {
   "cell_type": "markdown",
   "metadata": {
    "id": "aU5YNMH9kVqP"
   },
   "source": [
    "## Практическое задание 8"
   ]
  },
  {
   "cell_type": "code",
   "execution_count": 1,
   "metadata": {},
   "outputs": [],
   "source": [
    "import numpy as np\n",
    "import pandas as pd\n",
    "import matplotlib.pyplot as plt\n",
    "import warnings\n",
    "import scipy\n",
    "from scipy import stats\n",
    "from sympy import symbols, diff\n",
    "import math\n",
    "warnings.filterwarnings('ignore')"
   ]
  },
  {
   "cell_type": "markdown",
   "metadata": {},
   "source": [
    "#### 1. Провести дисперсионный анализ для определения того, есть ли различия среднего роста среди взрослых футболистов, хоккеистов и штангистов. Даны значения роста в трех группах случайно выбранных спортсменов: \n",
    "#### Футболисты: 173, 175, 180, 178, 177, 185, 183, 182.\n",
    "#### Хоккеисты: 177, 179, 180, 188, 177, 172, 171, 184, 180.\n",
    "#### Штангисты: 172, 173, 169, 177, 166, 180, 178, 177, 172, 166, 170."
   ]
  },
  {
   "cell_type": "code",
   "execution_count": 2,
   "metadata": {},
   "outputs": [],
   "source": [
    "fut = np.array([173, 175, 180, 178, 177, 185, 183, 182], dtype=np.float64)\n",
    "hoc = np.array([177, 179, 180, 188, 177, 172, 171, 184, 180], dtype=np.float64)\n",
    "sht = np.array([172, 173, 169, 177, 166, 180, 178, 177, 172, 166, 170])"
   ]
  },
  {
   "cell_type": "code",
   "execution_count": 3,
   "metadata": {
    "colab": {
     "base_uri": "https://localhost:8080/"
    },
    "id": "5fzwL1OBYo61",
    "outputId": "d6bcbabf-b4f1-45d4-b476-7b432fbec846"
   },
   "outputs": [
    {
     "name": "stdout",
     "output_type": "stream",
     "text": [
      "28\n"
     ]
    }
   ],
   "source": [
    "n1 = len(fut)\n",
    "n2 = len(hoc)\n",
    "n3 = len(sht)\n",
    "n = n1 + n2 + n3\n",
    "print(n)"
   ]
  },
  {
   "cell_type": "markdown",
   "metadata": {
    "id": "FJjbiTsqYo7E"
   },
   "source": [
    "Всего три группы:"
   ]
  },
  {
   "cell_type": "code",
   "execution_count": 4,
   "metadata": {
    "id": "sz67ojVvYo7F"
   },
   "outputs": [],
   "source": [
    "k = 3"
   ]
  },
  {
   "cell_type": "markdown",
   "metadata": {
    "collapsed": true,
    "id": "ckgMBMwlYo7r"
   },
   "source": [
    "Проведем однофакторный дисперсионный анализ. Сначала найдем средние зарплаты для каждой профессии:"
   ]
  },
  {
   "cell_type": "code",
   "execution_count": 5,
   "metadata": {
    "colab": {
     "base_uri": "https://localhost:8080/"
    },
    "id": "ZN6FRDI8Yo7s",
    "outputId": "bbca9baa-89f6-4c9e-9cc9-968dd870d971"
   },
   "outputs": [
    {
     "name": "stdout",
     "output_type": "stream",
     "text": [
      "179.125\n"
     ]
    }
   ],
   "source": [
    "fut_mean = np.mean(fut)\n",
    "print(fut_mean)\n"
   ]
  },
  {
   "cell_type": "code",
   "execution_count": 6,
   "metadata": {
    "colab": {
     "base_uri": "https://localhost:8080/"
    },
    "id": "8NIWa2kYYo73",
    "outputId": "7a4d8dc5-7210-4184-9154-c08600b8ea75"
   },
   "outputs": [
    {
     "name": "stdout",
     "output_type": "stream",
     "text": [
      "178.66666666666666\n"
     ]
    }
   ],
   "source": [
    "hoc_mean = np.mean(hoc)\n",
    "print(hoc_mean)"
   ]
  },
  {
   "cell_type": "code",
   "execution_count": 7,
   "metadata": {
    "colab": {
     "base_uri": "https://localhost:8080/"
    },
    "id": "w3iuWoo8Yo7_",
    "outputId": "a2753d5d-f5f2-4a49-b739-ae9aaaac4bca"
   },
   "outputs": [
    {
     "name": "stdout",
     "output_type": "stream",
     "text": [
      "172.72727272727272\n"
     ]
    }
   ],
   "source": [
    "sht_mean = np.mean(sht)\n",
    "print(sht_mean)"
   ]
  },
  {
   "cell_type": "markdown",
   "metadata": {
    "id": "Vptu9qE8Yo8H"
   },
   "source": [
    "Видно, что средние зарплаты разнятся. Установим, что это отличие статистически значимо. Для этого сначала соберем все значения заработных плат в один массив:"
   ]
  },
  {
   "cell_type": "code",
   "execution_count": 8,
   "metadata": {
    "colab": {
     "base_uri": "https://localhost:8080/"
    },
    "id": "XUIg7A9IYo8K",
    "outputId": "184d462c-4029-4f4b-eaa0-41c8040a5dca"
   },
   "outputs": [
    {
     "data": {
      "text/plain": [
       "array([173., 175., 180., 178., 177., 185., 183., 182., 177., 179., 180.,\n",
       "       188., 177., 172., 171., 184., 180., 172., 173., 169., 177., 166.,\n",
       "       180., 178., 177., 172., 166., 170.])"
      ]
     },
     "execution_count": 8,
     "metadata": {},
     "output_type": "execute_result"
    }
   ],
   "source": [
    "y_all = np.concatenate([fut, hoc, sht])\n",
    "y_all"
   ]
  },
  {
   "cell_type": "markdown",
   "metadata": {
    "id": "FDrC2EgCYo8R"
   },
   "source": [
    "Найдем среднее значение заработной платы по всем значениям:"
   ]
  },
  {
   "cell_type": "code",
   "execution_count": 9,
   "metadata": {
    "colab": {
     "base_uri": "https://localhost:8080/"
    },
    "id": "LrmBsYWlYo8U",
    "outputId": "ba77422c-148e-4bc9-9cbf-ea56ed8597bd"
   },
   "outputs": [
    {
     "name": "stdout",
     "output_type": "stream",
     "text": [
      "176.46428571428572\n"
     ]
    }
   ],
   "source": [
    "y_mean = np.mean(y_all)\n",
    "print(y_mean)"
   ]
  },
  {
   "cell_type": "markdown",
   "metadata": {
    "id": "WIgxrxamYo8e"
   },
   "source": [
    "Найдем $S^2$ — сумму квадратов отклонений наблюдений от общего среднего:"
   ]
  },
  {
   "cell_type": "code",
   "execution_count": 10,
   "metadata": {
    "colab": {
     "base_uri": "https://localhost:8080/"
    },
    "id": "g49G26gmYo8h",
    "outputId": "3e515b3d-28b9-44e0-b339-00df7292d166"
   },
   "outputs": [
    {
     "data": {
      "text/plain": [
       "830.9642857142854"
      ]
     },
     "execution_count": 10,
     "metadata": {},
     "output_type": "execute_result"
    }
   ],
   "source": [
    "s2 = np.sum((y_all - y_mean)**2)\n",
    "s2"
   ]
  },
  {
   "cell_type": "markdown",
   "metadata": {
    "id": "4pbrI3QEYo8t"
   },
   "source": [
    "Найдем $S^2_F$ - сумму квадратов отклонений средних групповых значений от общего среднего:"
   ]
  },
  {
   "cell_type": "code",
   "execution_count": 11,
   "metadata": {
    "colab": {
     "base_uri": "https://localhost:8080/"
    },
    "id": "K0nyMwvGYo8w",
    "outputId": "dd6bb727-7791-43c4-e231-4cba15ab6689",
    "scrolled": false
   },
   "outputs": [
    {
     "data": {
      "text/plain": [
       "253.9074675324678"
      ]
     },
     "execution_count": 11,
     "metadata": {},
     "output_type": "execute_result"
    }
   ],
   "source": [
    "s2_f = ((fut_mean - y_mean)**2) * n1 + ((hoc_mean - y_mean)**2) * n2 + ((sht_mean - y_mean)**2) * n3\n",
    "s2_f"
   ]
  },
  {
   "cell_type": "markdown",
   "metadata": {
    "id": "6Y3bn04xYo87"
   },
   "source": [
    "Найдем $S^2_{ост}$ — остаточную сумму квадратов отклонений:"
   ]
  },
  {
   "cell_type": "code",
   "execution_count": 12,
   "metadata": {},
   "outputs": [
    {
     "data": {
      "text/plain": [
       "577.0568181818182"
      ]
     },
     "execution_count": 12,
     "metadata": {},
     "output_type": "execute_result"
    }
   ],
   "source": [
    "s2_residual = ((fut - fut_mean)**2).sum() + ((hoc - hoc_mean)**2).sum() + ((sht - sht_mean)**2).sum()\n",
    "s2_residual"
   ]
  },
  {
   "cell_type": "markdown",
   "metadata": {
    "id": "r_o1uLOYYo9F"
   },
   "source": [
    "Удостоверимся, что соблюдается равенство $S^2 = S_F^2 + S_{ост}^2$:"
   ]
  },
  {
   "cell_type": "code",
   "execution_count": 13,
   "metadata": {
    "colab": {
     "base_uri": "https://localhost:8080/",
     "height": 197
    },
    "id": "s4om9JoYYo9H",
    "outputId": "e87747cf-1d5f-4a33-a39f-de806916549a"
   },
   "outputs": [
    {
     "name": "stdout",
     "output_type": "stream",
     "text": [
      "830.9642857142854\n",
      "830.964285714286\n"
     ]
    }
   ],
   "source": [
    "print(s2)\n",
    "print(s2_f + s2_residual)"
   ]
  },
  {
   "cell_type": "markdown",
   "metadata": {
    "id": "0CSn3JPbYo9N"
   },
   "source": [
    "Найдем общую дисперсию:"
   ]
  },
  {
   "cell_type": "code",
   "execution_count": 14,
   "metadata": {
    "id": "poku5it4Yo9O"
   },
   "outputs": [
    {
     "data": {
      "text/plain": [
       "30.776455026455015"
      ]
     },
     "execution_count": 14,
     "metadata": {},
     "output_type": "execute_result"
    }
   ],
   "source": [
    "sigma2_general = s2 / (n - 1)\n",
    "sigma2_general"
   ]
  },
  {
   "cell_type": "markdown",
   "metadata": {
    "id": "GpuU4kg0Yo9W"
   },
   "source": [
    "Найдем факторную дисперсию:"
   ]
  },
  {
   "cell_type": "code",
   "execution_count": 15,
   "metadata": {
    "id": "LDEml9L-Yo9Z"
   },
   "outputs": [
    {
     "data": {
      "text/plain": [
       "126.9537337662339"
      ]
     },
     "execution_count": 15,
     "metadata": {},
     "output_type": "execute_result"
    }
   ],
   "source": [
    "sigma2_f = s2_f / (k - 1)\n",
    "sigma2_f"
   ]
  },
  {
   "cell_type": "markdown",
   "metadata": {
    "id": "G5vpR7jyYo9j"
   },
   "source": [
    "Найдем остаточную дисперсию:"
   ]
  },
  {
   "cell_type": "code",
   "execution_count": 16,
   "metadata": {
    "id": "KeWVYYHfYo9r"
   },
   "outputs": [
    {
     "data": {
      "text/plain": [
       "23.08227272727273"
      ]
     },
     "execution_count": 16,
     "metadata": {},
     "output_type": "execute_result"
    }
   ],
   "source": [
    "sigma2_residual = s2_residual / (n - k)\n",
    "sigma2_residual"
   ]
  },
  {
   "cell_type": "markdown",
   "metadata": {
    "id": "uQirLWssYo9x"
   },
   "source": [
    "Вычислим $F_H$:"
   ]
  },
  {
   "cell_type": "code",
   "execution_count": 17,
   "metadata": {
    "id": "W9QELM6VYo91"
   },
   "outputs": [
    {
     "data": {
      "text/plain": [
       "5.500053450812598"
      ]
     },
     "execution_count": 17,
     "metadata": {},
     "output_type": "execute_result"
    }
   ],
   "source": [
    "F_h = sigma2_f / sigma2_residual\n",
    "F_h"
   ]
  },
  {
   "cell_type": "markdown",
   "metadata": {
    "id": "7pw0jHLlYo9-"
   },
   "source": [
    "Найдем значение $F_{крит}$ в <a href = \"https://www.matburo.ru/tv/table_fisher.pdf\">таблице критических точек распределения Фишера-Снедекора</a> для заданного уровня значимости $\\alpha = 0.05$ и двух степеней свободы:\n",
    "\n",
    "$df_{межд} = k - 1 = 3 - 1 = 2$ и $df_{внутр} = n - k = 28 - 3 = 25$."
   ]
  },
  {
   "cell_type": "markdown",
   "metadata": {
    "id": "WPLuwwbyYo9_"
   },
   "source": [
    "Для данных значений $F_{крит} = 3.38$. Так как $F_H > F_{крит}$, различие среднего роста среди взрослых футболистов, хоккеистов и штангистов статистически значимо."
   ]
  },
  {
   "cell_type": "markdown",
   "metadata": {},
   "source": [
    "Проверим данные расчеты с помощью библотеки питон"
   ]
  },
  {
   "cell_type": "code",
   "execution_count": 18,
   "metadata": {},
   "outputs": [
    {
     "data": {
      "text/plain": [
       "F_onewayResult(statistic=5.500053450812596, pvalue=0.010482206918698694)"
      ]
     },
     "execution_count": 18,
     "metadata": {},
     "output_type": "execute_result"
    }
   ],
   "source": [
    "stats.f_oneway(fut, hoc, sht)"
   ]
  },
  {
   "cell_type": "markdown",
   "metadata": {},
   "source": [
    "Мы видим, что статистика рассчитана правильно. Кроме того, также видно, что $alpha$ > $p-value. Следовательно верна альтернативная гипотеза, т.е. различие среднего роста среди взрослых футболистов, хоккеистов и штангистов статистически значимо "
   ]
  }
 ],
 "metadata": {
  "kernelspec": {
   "display_name": "Python 3",
   "language": "python",
   "name": "python3"
  },
  "language_info": {
   "codemirror_mode": {
    "name": "ipython",
    "version": 3
   },
   "file_extension": ".py",
   "mimetype": "text/x-python",
   "name": "python",
   "nbconvert_exporter": "python",
   "pygments_lexer": "ipython3",
   "version": "3.7.4"
  }
 },
 "nbformat": 4,
 "nbformat_minor": 2
}
