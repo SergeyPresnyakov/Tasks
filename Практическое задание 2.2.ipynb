{
 "cells": [
  {
   "cell_type": "markdown",
   "metadata": {
    "id": "aU5YNMH9kVqP"
   },
   "source": [
    "## Практическое задание 2.2"
   ]
  },
  {
   "cell_type": "code",
   "execution_count": 1,
   "metadata": {},
   "outputs": [],
   "source": [
    "import numpy as np\n",
    "from numpy import delete"
   ]
  },
  {
   "cell_type": "markdown",
   "metadata": {
    "id": "H3qXQfJ-WtUp"
   },
   "source": [
    "Все задания рекомендуется выполнять вручную, затем проверяя полученные результаты с использованием Numpy.\n",
    "\n",
    "__1.__ Вычислить определитель:\n",
    "\n",
    "   a)\n",
    "\n",
    "$\\begin{vmatrix}\n",
    "sinx & -cosx\\\\ \n",
    "cosx & sinx\n",
    "\\end{vmatrix}$ = $\\sin x\\cdot\\sin x + \\cos x\\cdot\\cos x = \\sin^2 x\\ + \\cos^2 x = 1$\n",
    "\n",
    "Проверим"
   ]
  },
  {
   "cell_type": "code",
   "execution_count": 2,
   "metadata": {},
   "outputs": [
    {
     "name": "stdout",
     "output_type": "stream",
     "text": [
      "Матрица:\n",
      "[[ 0.84147098 -0.54030231]\n",
      " [ 0.54030231  0.84147098]]\n",
      "Определитель: 1\n"
     ]
    }
   ],
   "source": [
    "b = np.array([[np.sin(1), -np.cos(1)], [np.cos(1), np.sin(1)]])\n",
    "print(f'Матрица:\\n{b}')\n",
    "print(f'Определитель: {np.linalg.det(b):.0f}')"
   ]
  },
  {
   "cell_type": "markdown",
   "metadata": {
    "id": "H3qXQfJ-WtUp"
   },
   "source": [
    "   б)\n",
    "    \n",
    "$$\\begin{vmatrix}\n",
    "4 & 2 & 3\\\\ \n",
    "0 & 5 & 1\\\\ \n",
    "0 & 0 & 9\n",
    "\\end{vmatrix};$$\n",
    "\n",
    "Данная марица является диагональной, поэтому можно воспользоваться следующим свойством: Определитель матрицы треугольного вида равен произведению элементов, стоящих на ее главной диагонали. используя данное свойство получаем^\n",
    "$\\begin{vmatrix}\n",
    "4 & 2 & 3\\\\ \n",
    "0 & 5 & 1\\\\ \n",
    "0 & 0 & 9\n",
    "\\end{vmatrix} = 4\\cdot 5 \\cdot 9 = 180$  \n",
    "Проверим"
   ]
  },
  {
   "cell_type": "code",
   "execution_count": 3,
   "metadata": {},
   "outputs": [
    {
     "name": "stdout",
     "output_type": "stream",
     "text": [
      "Матрица:\n",
      "[[4 2 3]\n",
      " [0 5 1]\n",
      " [0 0 9]]\n",
      "Определитель: 180\n"
     ]
    }
   ],
   "source": [
    "b = np.array([[4, 2, 3], [0, 5, 1], [0, 0, 9]])\n",
    "print(f'Матрица:\\n{b}')\n",
    "print(f'Определитель: {np.linalg.det(b):.0f}')"
   ]
  },
  {
   "cell_type": "markdown",
   "metadata": {},
   "source": [
    "Теперь проверим мою функцию из 5 задания"
   ]
  },
  {
   "cell_type": "code",
   "execution_count": 4,
   "metadata": {},
   "outputs": [],
   "source": [
    "def determinant(B):\n",
    "    global b, k, d, h, p, size, det_2_2, det_1, det_3\n",
    "    b = B\n",
    "    k = 0\n",
    "    d = 1\n",
    "    h = 0\n",
    "    p = 0\n",
    "    det_2_2 = 0\n",
    "    det_1 = 0\n",
    "    det_3 = []\n",
    "    size = len(b[0])\n",
    "    def det(A):\n",
    "        global A_2\n",
    "        global det_2_2\n",
    "        global det_1, det_3\n",
    "        global det_3\n",
    "        global k, d, c, h, p, size\n",
    "        A_string_1 = A[0]\n",
    "\n",
    "        for i in range(A.shape[0]):\n",
    "            if A.shape[0] > 2:\n",
    "                c = A_string_1[i]\n",
    "                A_2 = delete(A,[0],0)\n",
    "                A_2 = delete(A_2,[i],1)\n",
    "                det(A_2)\n",
    "\n",
    "            if A.shape[0] == 2:\n",
    "                if len(b[0]) == 2:\n",
    "                    c = A_string_1[i]\n",
    "                    det_2_2 = det_2_2 + ((-1)**(k+1) * c * (A[0][0] * A[1][1] - A[1][0] * A[0][1]))\n",
    "                    det_1 =  det_2_2\n",
    "                    det_3.append(det_1)\n",
    "                    print(\"Определитель матрицы =\", det_3[-1])\n",
    "\n",
    "                elif len(b[0]) > 2:\n",
    "                    h +=1\n",
    "                    det_2_2 = det_2_2 + ((-1)**(k+1) * c * (A[0][0] * A[1][1] - A[1][0] * A[0][1]))\n",
    "                    k += 1\n",
    "                    if h%3 == 0:\n",
    "                        if len(b[0]) > 3:\n",
    "                            det_1 = det_1 + ((-1)**(d+1)*b[0][p])*det_2_2\n",
    "                            det_3.append(det_1)\n",
    "                            d += 1\n",
    "                            p += 1\n",
    "                        elif len(b[0]) == 3:\n",
    "                            det_1 = - det_2_2\n",
    "                            det_3.append(det_1)\n",
    "                            print(\"Определитель матрицы =\", det_3[-1]) \n",
    "                        if p == len(b[0]): \n",
    "                            print(\"Определитель матрицы =\", det_3[-1])  \n",
    "                break\n",
    "                \n",
    "    return det(b)"
   ]
  },
  {
   "cell_type": "code",
   "execution_count": 5,
   "metadata": {
    "scrolled": false
   },
   "outputs": [
    {
     "name": "stdout",
     "output_type": "stream",
     "text": [
      "Определитель матрицы = 180\n"
     ]
    }
   ],
   "source": [
    "determinant(b)"
   ]
  },
  {
   "cell_type": "markdown",
   "metadata": {},
   "source": [
    "Видим, что все работает и посчитано правильно"
   ]
  },
  {
   "cell_type": "markdown",
   "metadata": {
    "id": "H3qXQfJ-WtUp"
   },
   "source": [
    "   в)\n",
    "\n",
    "$$\\begin{vmatrix}\n",
    "1 & 2 & 3\\\\ \n",
    "4 & 5 & 6\\\\ \n",
    "7 & 8 & 9\n",
    "\\end{vmatrix}.$$"
   ]
  },
  {
   "cell_type": "markdown",
   "metadata": {},
   "source": [
    "Поскольку я написал функцию сам, то хорошо разобрался с вычислением определителя. Поэтому для экономии времени воспользуюсь здесь своей функцией."
   ]
  },
  {
   "cell_type": "code",
   "execution_count": 6,
   "metadata": {},
   "outputs": [
    {
     "name": "stdout",
     "output_type": "stream",
     "text": [
      "Матрица:\n",
      "[[1 2 3]\n",
      " [3 5 6]\n",
      " [7 8 9]]\n"
     ]
    }
   ],
   "source": [
    "b = np.array([[1, 2, 3], [3, 5, 6], [7, 8, 9]])\n",
    "print(f'Матрица:\\n{b}')"
   ]
  },
  {
   "cell_type": "code",
   "execution_count": 7,
   "metadata": {
    "scrolled": true
   },
   "outputs": [
    {
     "name": "stdout",
     "output_type": "stream",
     "text": [
      "Определитель матрицы = -6\n"
     ]
    }
   ],
   "source": [
    "determinant(b)"
   ]
  },
  {
   "cell_type": "markdown",
   "metadata": {},
   "source": [
    "Проверим"
   ]
  },
  {
   "cell_type": "code",
   "execution_count": 8,
   "metadata": {},
   "outputs": [
    {
     "name": "stdout",
     "output_type": "stream",
     "text": [
      "Определитель: -6\n"
     ]
    }
   ],
   "source": [
    "print(f'Определитель: {np.linalg.det(b):.0f}')"
   ]
  },
  {
   "cell_type": "markdown",
   "metadata": {},
   "source": [
    "Видим, что все работает и посчитано правильно"
   ]
  },
  {
   "cell_type": "markdown",
   "metadata": {
    "id": "H3qXQfJ-WtUp"
   },
   "source": [
    "__2.__ Определитель матрицы $A$ равен $4$. Найти:"
   ]
  },
  {
   "cell_type": "markdown",
   "metadata": {
    "id": "H3qXQfJ-WtUp"
   },
   "source": [
    "   а) $det(A^{2})$;\n",
    "   \n",
    "   б) $det(A^{T})$;\n",
    "    \n",
    "   в) $det(2A)$.\n",
    "   "
   ]
  },
  {
   "cell_type": "markdown",
   "metadata": {},
   "source": [
    "Для выпонения данного упражнения воспользуемя свойствами детермината."
   ]
  },
  {
   "cell_type": "markdown",
   "metadata": {},
   "source": [
    "   а) $det(A^{2})$  \n",
    "   \n",
    "Помним, что для двух квадратных матриц одинакового размера\n",
    "\n",
    "$$det(AB)=detA\\cdot detB.$$ \n",
    "\n",
    "Поэтому $det(A^{2}) = det(A\\cdot A)=detA\\cdot detA = 4 \\cdot 4 = 16.$"
   ]
  },
  {
   "cell_type": "markdown",
   "metadata": {},
   "source": [
    "  б) $det(A^{T})$\n",
    "  \n",
    "Помним, что определитель транспонированной матрицы равен определителю исходной:\n",
    "\n",
    "$$detA^{T}=detA.$$.\n",
    "\n",
    "Поэтому  \n",
    "\n",
    "$detA^{T} = detA = 4$"
   ]
  },
  {
   "cell_type": "markdown",
   "metadata": {},
   "source": [
    "   в) $det(2A)$  \n",
    "помним, что если квадратная матрица n-того порядка умножается на некоторое ненулевое число, то определитель полученной матрицы равен произведению определителя исходной матрицы на это число в n-той степени.\n",
    "\n",
    " $$B = k·A   =>   det(B) = k^n·det(A)$$  \n",
    " \n",
    " Поэтому, $det(2A) = 2^n\\cdot 2^2 = 2^{n+2}$, где n - порядок матрицы. "
   ]
  },
  {
   "cell_type": "markdown",
   "metadata": {
    "id": "H3qXQfJ-WtUp"
   },
   "source": [
    "__3.__  Доказать, что матрица\n",
    "\n",
    "$$\\begin{pmatrix}\n",
    "-2 & 7 & -3\\\\ \n",
    "4 & -14 & 6\\\\ \n",
    "-3 & 7 & 13\n",
    "\\end{pmatrix}$$\n",
    "   \n",
    "вырожденная.  \n",
    "\n",
    "Помним, что матрица являтся вырожденной если ее определитель равен 0. Найдем с помощью моей функции определитель данной матрицы."
   ]
  },
  {
   "cell_type": "code",
   "execution_count": 9,
   "metadata": {},
   "outputs": [
    {
     "name": "stdout",
     "output_type": "stream",
     "text": [
      "Матрица:\n",
      "[[ -2   7  -3]\n",
      " [  4 -14   6]\n",
      " [ -3   7  13]]\n"
     ]
    }
   ],
   "source": [
    "b = np.array([[-2, 7, -3], [4, -14, 6], [-3, 7, 13]])\n",
    "print(f'Матрица:\\n{b}')"
   ]
  },
  {
   "cell_type": "code",
   "execution_count": 10,
   "metadata": {
    "scrolled": true
   },
   "outputs": [
    {
     "name": "stdout",
     "output_type": "stream",
     "text": [
      "Определитель матрицы = 0\n"
     ]
    }
   ],
   "source": [
    "determinant(b)"
   ]
  },
  {
   "cell_type": "markdown",
   "metadata": {},
   "source": [
    "Проверим"
   ]
  },
  {
   "cell_type": "code",
   "execution_count": 11,
   "metadata": {
    "scrolled": true
   },
   "outputs": [
    {
     "name": "stdout",
     "output_type": "stream",
     "text": [
      "Определитель: 0\n"
     ]
    }
   ],
   "source": [
    "print(f'Определитель: {np.linalg.det(b):.0f}')"
   ]
  },
  {
   "cell_type": "markdown",
   "metadata": {},
   "source": [
    "Видим,что определитель посчитан правильно и равен 0. Следовательно, данная матрица является вырожденной."
   ]
  },
  {
   "cell_type": "markdown",
   "metadata": {},
   "source": [
    "__4.__ Найти ранг матрицы:\n",
    "\n",
    "   а) $\\begin{pmatrix}\n",
    "1 & 2 & 3\\\\ \n",
    "1 & 1 & 1\\\\ \n",
    "2 & 3 & 4\n",
    "\\end{pmatrix};$"
   ]
  },
  {
   "cell_type": "markdown",
   "metadata": {},
   "source": [
    "Третья строка является суммой первой и второй строк, а значит, ее можно отбросить:\n",
    "\n",
    "$\\begin{pmatrix}\n",
    "1 & 2 & 3\\\\ \n",
    "1 & 1 & 1\\\\ \n",
    "\\end{pmatrix}$\n",
    "\n",
    "Вычтем из второй сроки первую:\n",
    "\n",
    "$\\begin{pmatrix}\n",
    "1 & 2 & 3\\\\ \n",
    "0 & -1 & -2\\\\ \n",
    "\\end{pmatrix}$\n",
    "\n",
    "Видим, что ненулевых строк 2, поэтому ранг матрицы равен 2. Проверим:"
   ]
  },
  {
   "cell_type": "code",
   "execution_count": 12,
   "metadata": {},
   "outputs": [
    {
     "name": "stdout",
     "output_type": "stream",
     "text": [
      "Ранг матрицы = 2\n"
     ]
    }
   ],
   "source": [
    "a = np.array([[1, 2, 3], [1, 1, 1], [2, 3, 4]])\n",
    "print(\"Ранг матрицы =\", np.linalg.matrix_rank(a))"
   ]
  },
  {
   "cell_type": "markdown",
   "metadata": {},
   "source": [
    "Видим, что все посчитано правильно"
   ]
  },
  {
   "cell_type": "markdown",
   "metadata": {},
   "source": [
    "   б) $\\begin{pmatrix}\n",
    "0 & 0 & 2 & 1\\\\ \n",
    "0 & 0 & 2 & 2\\\\ \n",
    "0 & 0 & 4 & 3\\\\ \n",
    "2 & 3 & 5 & 6\n",
    "\\end{pmatrix}.$\n",
    "\n",
    "Третья строка является суммой первой и второй строк, а значит, ее можно отбросить:\n",
    "\n",
    "$\\begin{pmatrix}\n",
    "0 & 0 & 2 & 1\\\\ \n",
    "0 & 0 & 2 & 2\\\\ \n",
    "2 & 3 & 5 & 6\n",
    "\\end{pmatrix}$  \n",
    "\n",
    "Меняем первую и третью строку местами\n",
    "\n",
    "$\\begin{pmatrix}\n",
    "2 & 3 & 5 & 6\\\\ \n",
    "0 & 0 & 2 & 2\\\\ \n",
    "0 & 0 & 2 & 1\n",
    "\\end{pmatrix}$ \n",
    "\n",
    "Полученная матрица является треугольной. Видим, что ненулевых строк 3, поэтому ранг матрицы равен 3. Проверим"
   ]
  },
  {
   "cell_type": "code",
   "execution_count": 13,
   "metadata": {},
   "outputs": [
    {
     "name": "stdout",
     "output_type": "stream",
     "text": [
      "Ранг матрицы = 3\n"
     ]
    }
   ],
   "source": [
    "a = np.array([[0, 0, 2, 1], [0, 0, 2, 2], [0, 0, 4, 3], [2, 3, 5, 6]])\n",
    "print(\"Ранг матрицы =\", np.linalg.matrix_rank(a))"
   ]
  },
  {
   "cell_type": "markdown",
   "metadata": {},
   "source": [
    "Видим, что все посчитано правильно"
   ]
  },
  {
   "cell_type": "markdown",
   "metadata": {
    "id": "H3qXQfJ-WtUp"
   },
   "source": [
    "__5*.__ Написать функцию для поиска определителя путем разложения по строкам или столбцам  \n",
    "\n",
    "Функцию привел выше. Проверим ее на матрице размером 4 х 4."
   ]
  },
  {
   "cell_type": "code",
   "execution_count": 14,
   "metadata": {
    "scrolled": true
   },
   "outputs": [
    {
     "name": "stdout",
     "output_type": "stream",
     "text": [
      "Матрица:\n",
      "[[-1 -4  0 -2]\n",
      " [ 0  1  5  4]\n",
      " [ 3  1  1  0]\n",
      " [-1  0  2  2]]\n"
     ]
    }
   ],
   "source": [
    "b = np.array([[-1, -4, 0, -2], [0, 1, 5, 4], [3, 1, 1, 0], [-1, 0, 2, 2]])\n",
    "print(f'Матрица:\\n{b}')"
   ]
  },
  {
   "cell_type": "code",
   "execution_count": 15,
   "metadata": {
    "scrolled": true
   },
   "outputs": [
    {
     "name": "stdout",
     "output_type": "stream",
     "text": [
      "Определитель матрицы = -12\n"
     ]
    }
   ],
   "source": [
    "determinant(b)"
   ]
  },
  {
   "cell_type": "markdown",
   "metadata": {},
   "source": [
    "Проверим"
   ]
  },
  {
   "cell_type": "code",
   "execution_count": 16,
   "metadata": {
    "scrolled": true
   },
   "outputs": [
    {
     "name": "stdout",
     "output_type": "stream",
     "text": [
      "Определитель:\n",
      "-12\n"
     ]
    }
   ],
   "source": [
    "print(f'Определитель:\\n{np.linalg.det(b):.0f}')"
   ]
  },
  {
   "cell_type": "markdown",
   "metadata": {},
   "source": [
    "Видим, что все работает и посчитано правильно"
   ]
  },
  {
   "cell_type": "code",
   "execution_count": null,
   "metadata": {},
   "outputs": [],
   "source": []
  },
  {
   "cell_type": "code",
   "execution_count": null,
   "metadata": {},
   "outputs": [],
   "source": []
  },
  {
   "cell_type": "code",
   "execution_count": null,
   "metadata": {},
   "outputs": [],
   "source": []
  },
  {
   "cell_type": "code",
   "execution_count": null,
   "metadata": {},
   "outputs": [],
   "source": []
  },
  {
   "cell_type": "code",
   "execution_count": null,
   "metadata": {},
   "outputs": [],
   "source": []
  },
  {
   "cell_type": "markdown",
   "metadata": {},
   "source": [
    "### Это я оставил для себя с комментариями"
   ]
  },
  {
   "cell_type": "code",
   "execution_count": 17,
   "metadata": {},
   "outputs": [],
   "source": [
    "import numpy as np\n",
    "from numpy import delete\n",
    "k = 0\n",
    "d = 1\n",
    "h = 0\n",
    "p = 0\n",
    "det_2_2 = 0\n",
    "det_1 = 0\n",
    "size = len(b[0])\n",
    "def det(A):\n",
    "    global A_2\n",
    "    global det_2_2\n",
    "    global det_1\n",
    "    global k, d, c, h, p, size\n",
    "    A_string_1 = A[0]\n",
    " \n",
    "    for i in range(A.shape[0]):\n",
    "        if A.shape[0] > 2:\n",
    "            c = A_string_1[i]\n",
    "            print(\"Работает функция > 2\")\n",
    "            print(A_string_1)\n",
    "            A_2 = delete(A,[0],0)\n",
    "            A_2 = delete(A_2,[i],1)\n",
    "            print(A_2)\n",
    "            print(f\"a_1_{i} = {A_string_1[i]}\")\n",
    "            det(A_2)\n",
    "        \n",
    "        if A.shape[0] == 2:\n",
    "            print(\"Работает функция det_1\")\n",
    "            if len(b[0]) == 2:\n",
    "                c = A_string_1[i]\n",
    "                print(f\"Определитель матрицы 3 х 3 равен {det_2_2} + ((-1)**({k}+1) * {c} * {(A[0][0] * A[1][1] - A[1][0] * A[0][1])}\")\n",
    "                det_2_2 = det_2_2 + ((-1)**(k+1) * c * (A[0][0] * A[1][1] - A[1][0] * A[0][1]))\n",
    "                det_1 =  - det_2_2\n",
    "                print(\"Определитель матрицы =\", det_1)\n",
    "                                           \n",
    "            elif len(b[0]) > 2:\n",
    "                h +=1\n",
    "                print(A_2)\n",
    "                print(f\"Определитель матрицы 3 х 3 равен {det_2_2} + ((-1)**({k}+1) * {c} * {(A[0][0] * A[1][1] - A[1][0] * A[0][1])}\")\n",
    "                det_2_2 = det_2_2 + ((-1)**(k+1) * c * (A[0][0] * A[1][1] - A[1][0] * A[0][1]))\n",
    "                print(det_2_2)\n",
    "                k += 1\n",
    "                print(\"A_string_1[i] = \", c)\n",
    "                if h%3 == 0:\n",
    "                    if len(b[0]) > 3:\n",
    "                        print(f\"Определитель матрицы 4 х 4 равен {det_1} +++-1**({d}+1) * {b[0][p]} * {det_2_2} =\")\n",
    "                        det_1 = det_1 + ((-1)**(d+1)*b[0][p])*det_2_2\n",
    "                        print(\"p = \", p)\n",
    "                        print(det_1)\n",
    "                        d += 1\n",
    "                        p += 1\n",
    "                        if p == 5:\n",
    "                            p = 0\n",
    "                        \n",
    "                        \n",
    "                    elif len(b[0]) == 3:\n",
    "                        det_1 = - det_2_2\n",
    "                        print(\"Определитель матрицы =\", det_1)\n",
    "            break\n"
   ]
  },
  {
   "cell_type": "code",
   "execution_count": 18,
   "metadata": {},
   "outputs": [],
   "source": [
    "def determinant(B):\n",
    "    global b, k, d, h, p, size, det_2_2, det_1\n",
    "    b = B\n",
    "    k = 0\n",
    "    d = 1\n",
    "    h = 0\n",
    "    p = 0\n",
    "    det_2_2 = 0\n",
    "    det_1 = 0\n",
    "    size = len(b[0])\n",
    "    def det(A):\n",
    "        global A_2\n",
    "        global det_2_2\n",
    "        global det_1\n",
    "        global k, d, c, h, p, size\n",
    "        A_string_1 = A[0]\n",
    "\n",
    "        for i in range(A.shape[0]):\n",
    "            if A.shape[0] > 2:\n",
    "                c = A_string_1[i]\n",
    "                A_2 = delete(A,[0],0)\n",
    "                A_2 = delete(A_2,[i],1)\n",
    "                det(A_2)\n",
    "\n",
    "            if A.shape[0] == 2:\n",
    "                if len(b[0]) == 2:\n",
    "                    c = A_string_1[i]\n",
    "                    det_2_2 = det_2_2 + ((-1)**(k+1) * c * (A[0][0] * A[1][1] - A[1][0] * A[0][1]))\n",
    "                    det_1 =  - det_2_2\n",
    "                    print(\"Определитель матрицы =\", det_1)\n",
    "\n",
    "                elif len(b[0]) > 2:\n",
    "                    h +=1\n",
    "                    det_2_2 = det_2_2 + ((-1)**(k+1) * c * (A[0][0] * A[1][1] - A[1][0] * A[0][1]))\n",
    "                    k += 1\n",
    "                    if h%3 == 0:\n",
    "                        if len(b[0]) > 3:\n",
    "                            det_1 = det_1 + ((-1)**(d+1)*b[0][p])*det_2_2\n",
    "                            d += 1\n",
    "                            p += 1\n",
    "                        elif len(b[0]) == 3:\n",
    "                            det_1 = - det_2_2\n",
    "                        print(\"Определитель матрицы =\", det_1)\n",
    "                break\n",
    "    return det(b)"
   ]
  }
 ],
 "metadata": {
  "colab": {
   "collapsed_sections": [],
   "name": "Lesson_1-REVISED.ipynb",
   "provenance": []
  },
  "kernelspec": {
   "display_name": "Python 3",
   "language": "python",
   "name": "python3"
  },
  "language_info": {
   "codemirror_mode": {
    "name": "ipython",
    "version": 3
   },
   "file_extension": ".py",
   "mimetype": "text/x-python",
   "name": "python",
   "nbconvert_exporter": "python",
   "pygments_lexer": "ipython3",
   "version": "3.7.4"
  }
 },
 "nbformat": 4,
 "nbformat_minor": 1
}
