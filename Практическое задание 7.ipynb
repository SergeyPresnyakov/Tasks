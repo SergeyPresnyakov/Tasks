{
 "cells": [
  {
   "cell_type": "markdown",
   "metadata": {
    "id": "aU5YNMH9kVqP"
   },
   "source": [
    "## Практическое задание 7"
   ]
  },
  {
   "cell_type": "code",
   "execution_count": 1,
   "metadata": {},
   "outputs": [],
   "source": [
    "import numpy as np\n",
    "import pandas as pd\n",
    "import matplotlib.pyplot as plt\n",
    "import warnings\n",
    "import scipy\n",
    "from scipy import stats\n",
    "from sympy import symbols, diff\n",
    "import math\n",
    "warnings.filterwarnings('ignore')"
   ]
  },
  {
   "cell_type": "markdown",
   "metadata": {},
   "source": [
    "#### 1. Даны значения величины заработной платы заемщиков банка (zp) и значения их поведенческого кредитного скоринга (ks): zp = [35, 45, 190, 200, 40, 70, 54, 150, 120, 110], ks = [401, 574, 874, 919, 459, 739, 653, 902, 746, 832]. Используя математические операции, посчитать коэффициенты линейной регрессии, приняв за X заработную плату (то есть, zp - признак), а за y - значения скорингового балла (то есть, ks - целевая переменная). Произвести расчет как с использованием intercept, так и без."
   ]
  },
  {
   "cell_type": "code",
   "execution_count": 70,
   "metadata": {},
   "outputs": [],
   "source": [
    "zp = np.array([35, 45, 190, 200, 40, 70, 54, 150, 120, 110])\n",
    "ks = np.array([401, 574, 874, 919, 459, 739, 653, 902, 746, 832])"
   ]
  },
  {
   "cell_type": "markdown",
   "metadata": {},
   "source": [
    "##### 1.1. Посчитаем коэффициенты линейной регрессии, используя математические формулы "
   ]
  },
  {
   "cell_type": "code",
   "execution_count": 3,
   "metadata": {},
   "outputs": [
    {
     "data": {
      "text/plain": [
       "2.620538882402765"
      ]
     },
     "execution_count": 3,
     "metadata": {},
     "output_type": "execute_result"
    }
   ],
   "source": [
    "b = (np.mean(zp * ks) - np.mean(zp) * np.mean(ks)) / (np.mean(zp**2) - np.mean(zp) ** 2)\n",
    "b"
   ]
  },
  {
   "cell_type": "code",
   "execution_count": 4,
   "metadata": {
    "scrolled": true
   },
   "outputs": [
    {
     "data": {
      "text/plain": [
       "444.1773573243596"
      ]
     },
     "execution_count": 4,
     "metadata": {},
     "output_type": "execute_result"
    }
   ],
   "source": [
    "a = np.mean(ks) - b * np.mean(zp)\n",
    "a"
   ]
  },
  {
   "cell_type": "markdown",
   "metadata": {
    "collapsed": true,
    "id": "F4wExIGGVWBv"
   },
   "source": [
    "Итак, уравнение регрессии имеет вид (коэффициенты округлены до сотых):"
   ]
  },
  {
   "cell_type": "markdown",
   "metadata": {
    "collapsed": true,
    "id": "EAnsjUv4VWB0"
   },
   "source": [
    "$$y = 444.18 + 2.62 \\cdot x$$\n",
    "Посмотрим на график"
   ]
  },
  {
   "cell_type": "code",
   "execution_count": 5,
   "metadata": {},
   "outputs": [],
   "source": [
    "ks_pred = a + b*zp"
   ]
  },
  {
   "cell_type": "code",
   "execution_count": 6,
   "metadata": {
    "scrolled": true
   },
   "outputs": [
    {
     "data": {
      "image/png": "[encoded data removed]",
      "text/plain": [
       "<Figure size 432x288 with 1 Axes>"
      ]
     },
     "metadata": {
      "needs_background": "light"
     },
     "output_type": "display_data"
    }
   ],
   "source": [
    "import matplotlib.pyplot as plt\n",
    "\n",
    "plt.scatter(zp, ks)\n",
    "plt.plot(zp, ks_pred, color = 'g')\n",
    "plt.xlabel('Величины заработной платы заемщиков')\n",
    "plt.ylabel('Значения скорингового балла заемщиков')\n",
    "plt.show()"
   ]
  },
  {
   "cell_type": "markdown",
   "metadata": {},
   "source": [
    "Оценим насколько хороша наша модель"
   ]
  },
  {
   "cell_type": "markdown",
   "metadata": {
    "id": "Jj60_kNBVWB4"
   },
   "source": [
    "Найдем коэффициент корреляции $r$ с помощью коэффициента $b$ и средних квадратического отклонения, посчитанного для массивов $x$ и $y$:"
   ]
  },
  {
   "cell_type": "code",
   "execution_count": 7,
   "metadata": {
    "colab": {
     "base_uri": "https://localhost:8080/"
    },
    "id": "-rzWVsRKVWB5",
    "outputId": "c2c850e6-0c86-49a1-e562-0569a7fb281d"
   },
   "outputs": [
    {
     "data": {
      "text/plain": [
       "0.8874900920739162"
      ]
     },
     "execution_count": 7,
     "metadata": {},
     "output_type": "execute_result"
    }
   ],
   "source": [
    "r = b * np.std(zp) / np.std(ks)\n",
    "r"
   ]
  },
  {
   "cell_type": "markdown",
   "metadata": {},
   "source": [
    "Видим, что коэффициент корреляции высокий"
   ]
  },
  {
   "cell_type": "markdown",
   "metadata": {
    "id": "yCebK69XVWCC"
   },
   "source": [
    "Найдем коэффициент детерминации $R^2$:"
   ]
  },
  {
   "cell_type": "code",
   "execution_count": 8,
   "metadata": {
    "colab": {
     "base_uri": "https://localhost:8080/"
    },
    "id": "0ooklfCzVWCD",
    "outputId": "329a326f-35a6-440a-c82c-eac89b8538d9"
   },
   "outputs": [
    {
     "data": {
      "text/plain": [
       "0.7876386635293682"
      ]
     },
     "execution_count": 8,
     "metadata": {},
     "output_type": "execute_result"
    }
   ],
   "source": [
    "R2 = r**2\n",
    "R2"
   ]
  },
  {
   "cell_type": "markdown",
   "metadata": {
    "id": "UNooD5xJVWCP"
   },
   "source": [
    "Это означает, что 78.8% вариации значения скорингового балла заемщиков ($ks$) объясняется вариацией фактора $zp$ — величины заработной платы заемщиков."
   ]
  },
  {
   "cell_type": "markdown",
   "metadata": {
    "id": "RgW1rXkEVWCR"
   },
   "source": [
    "С помощью этого уравнения регрессии посчитаем значения, предсказанные моделью значения скорингового балла заемщиков:"
   ]
  },
  {
   "cell_type": "code",
   "execution_count": 9,
   "metadata": {
    "colab": {
     "base_uri": "https://localhost:8080/"
    },
    "id": "1pStjYk9VWCS",
    "outputId": "67f28152-dde5-40c2-f347-5116d8d9d5e3"
   },
   "outputs": [
    {
     "data": {
      "text/plain": [
       "array([535.89621821, 562.10160703, 942.07974498, 968.2851338 ,\n",
       "       548.99891262, 627.61507909, 585.68645697, 837.25818968,\n",
       "       758.64202321, 732.43663439])"
      ]
     },
     "execution_count": 9,
     "metadata": {},
     "output_type": "execute_result"
    }
   ],
   "source": [
    "ks_pred = a + b * zp\n",
    "ks_pred"
   ]
  },
  {
   "cell_type": "markdown",
   "metadata": {
    "id": "ymhf8BfBVWCc"
   },
   "source": [
    "Качество модели найдем с помощью средней ошибки аппроксимации $\\overline {A}$:"
   ]
  },
  {
   "cell_type": "code",
   "execution_count": 10,
   "metadata": {
    "id": "bv3vJejlVWCg",
    "outputId": "37345701-3c7a-439c-a8d8-b41b796f3364",
    "scrolled": true
   },
   "outputs": [
    {
     "data": {
      "text/plain": [
       "11.46925184356171"
      ]
     },
     "execution_count": 10,
     "metadata": {},
     "output_type": "execute_result"
    }
   ],
   "source": [
    "A_mean = 100 * np.mean(np.abs((ks - ks_pred) / ks))\n",
    "A_mean"
   ]
  },
  {
   "cell_type": "markdown",
   "metadata": {
    "id": "2lpGd6eKVWCw"
   },
   "source": [
    "Так как $\\overline {A}$ равна 11%, что незначительно превышает 8-10 %, модель достаточно хорошо описывает эмпирические данные.  \n",
    "Для оценки значимости уравнения регрессии воспользуемся F-критерием Фишера. Найдем фактическое значение $F$-критерия ($F_{факт}$):"
   ]
  },
  {
   "cell_type": "markdown",
   "metadata": {},
   "source": [
    "Среднеквадратическая ошибка"
   ]
  },
  {
   "cell_type": "code",
   "execution_count": 11,
   "metadata": {
    "scrolled": true
   },
   "outputs": [
    {
     "data": {
      "text/plain": [
       "80.43888488272732"
      ]
     },
     "execution_count": 11,
     "metadata": {},
     "output_type": "execute_result"
    }
   ],
   "source": [
    "from sklearn.metrics import mean_squared_error\n",
    "from math import sqrt\n",
    "\n",
    "rms = sqrt(mean_squared_error(ks, ks_pred))\n",
    "rms"
   ]
  },
  {
   "cell_type": "markdown",
   "metadata": {},
   "source": [
    "Средняя абсолютная ошибка"
   ]
  },
  {
   "cell_type": "code",
   "execution_count": 12,
   "metadata": {},
   "outputs": [
    {
     "data": {
      "text/plain": [
       "70.98040656548312"
      ]
     },
     "execution_count": 12,
     "metadata": {},
     "output_type": "execute_result"
    }
   ],
   "source": [
    "from sklearn.metrics import mean_absolute_error\n",
    "mean_absolute_error(ks, ks_pred)"
   ]
  },
  {
   "cell_type": "markdown",
   "metadata": {},
   "source": [
    "Число измерений n = 10, число параметров р = 2 , α = 0,05\n",
    "Находим число степеней свободы\n",
    "df1 = р - 1 = 2 - 1 = 1\n",
    "df2  = n - р = 10 - 2 = 8"
   ]
  },
  {
   "cell_type": "code",
   "execution_count": 13,
   "metadata": {
    "id": "2s_12smQVWC0",
    "outputId": "d64e2a92-3d60-43b9-d7a1-ef349f56a542"
   },
   "outputs": [
    {
     "data": {
      "text/plain": [
       "29.671640859664432"
      ]
     },
     "execution_count": 13,
     "metadata": {},
     "output_type": "execute_result"
    }
   ],
   "source": [
    "n = len(ks)\n",
    "F_fact = (r**2 * (n - 2)) / (1 - r**2)\n",
    "F_fact"
   ]
  },
  {
   "cell_type": "markdown",
   "metadata": {
    "id": "tRrc_mzoVWC9"
   },
   "source": [
    "При 5 % уровне значимости и степенях свободы $k_1 = 1$ и $k_2 = 8$ табличное значение критерия: $F_{кр} = 4.96$.\n",
    "\n",
    "Так как $F_{факт} = 29.67 > F_{кр} = 4.96$, уравнение регрессии статистически значимо."
   ]
  },
  {
   "cell_type": "markdown",
   "metadata": {
    "id": "7AW4TKZLVWDC"
   },
   "source": [
    "Для оценки статистической значимости параметров регрессии воспользуемся $t$-статистикой Стьюдента и также рассчитаем \n",
    "\n",
    "доверительные интервалы каждого из показателей. При $df = n - 2 = 10 - 2 = 8$ и $\\alpha = 0.05$ получим\n",
    "\n",
    "(см. <a href='https://statpsy.ru/t-student/t-test-tablica/'>Таблицу критических значений t-критерия Стьюдента</a>):"
   ]
  },
  {
   "cell_type": "markdown",
   "metadata": {
    "id": "0R9OLU3rVWDE"
   },
   "source": [
    "$$t_{кр} = 2.306$$"
   ]
  },
  {
   "cell_type": "markdown",
   "metadata": {
    "id": "KolP5udaVWDH"
   },
   "source": [
    "Определим стандартную ошибку $S_{ост}$ (переменная **s_residual**) и случайные ошибки $m_a, \\; m_b$:"
   ]
  },
  {
   "cell_type": "code",
   "execution_count": 14,
   "metadata": {
    "id": "y7ZtBGJXVWDI",
    "outputId": "d28f0a73-ddc5-4152-e9fd-6686aec76bf0"
   },
   "outputs": [
    {
     "name": "stdout",
     "output_type": "stream",
     "text": [
      "s_residual = 89.93340731602925\n",
      "m_a = 56.466497550681524\n",
      "m_b = 0.48108279568516\n"
     ]
    }
   ],
   "source": [
    "s_residual = np.sqrt(np.sum((ks - ks_pred)**2) / (n - 2))\n",
    "m_a = s_residual * np.sqrt(np.sum(zp ** 2)) / (n * np.std(zp))\n",
    "m_b = s_residual / (np.std(zp) * np.sqrt(n))\n",
    "\n",
    "print('s_residual = {}\\nm_a = {}\\nm_b = {}'.format(s_residual, m_a, m_b))"
   ]
  },
  {
   "cell_type": "markdown",
   "metadata": {
    "id": "mrYy3Z2JVWDQ"
   },
   "source": [
    "Вычислим наблюдаемые значения критерия $t_a$ и $t_b$:"
   ]
  },
  {
   "cell_type": "code",
   "execution_count": 15,
   "metadata": {
    "id": "7F0Yci-HVWDS",
    "outputId": "4189e74c-8d82-4d7d-8d8f-d08ae828b8d3"
   },
   "outputs": [
    {
     "data": {
      "text/plain": [
       "7.866210524668864"
      ]
     },
     "execution_count": 15,
     "metadata": {},
     "output_type": "execute_result"
    }
   ],
   "source": [
    "t_a = a / m_a\n",
    "t_a"
   ]
  },
  {
   "cell_type": "code",
   "execution_count": 16,
   "metadata": {
    "id": "UfXZXkmpVWDd",
    "outputId": "45e8fba5-84b1-4e1c-c21a-78968c272c9b"
   },
   "outputs": [
    {
     "data": {
      "text/plain": [
       "5.447168150485579"
      ]
     },
     "execution_count": 16,
     "metadata": {},
     "output_type": "execute_result"
    }
   ],
   "source": [
    "t_b = b / m_b\n",
    "t_b"
   ]
  },
  {
   "cell_type": "markdown",
   "metadata": {
    "id": "qNAXIaijVWDk"
   },
   "source": [
    "Фактические значения t-статистики больше табличного значения:"
   ]
  },
  {
   "cell_type": "markdown",
   "metadata": {
    "id": "wGlkWCg2VWDl"
   },
   "source": [
    "$$t_a = 7.87 > t_{кр} = 2.31, \\; t_b = 5.45 > t_{кр} = 2.31,$$"
   ]
  },
  {
   "cell_type": "markdown",
   "metadata": {
    "id": "8kwL6vR_VWDp"
   },
   "source": [
    "поэтому параметры $a$ и $b$ не случайно отличаются от нуля, то есть они статистически значимы."
   ]
  },
  {
   "cell_type": "markdown",
   "metadata": {
    "id": "uc7Zz2h1VWDr"
   },
   "source": [
    "Рассчитаем доверительные интервалы для параметров регрессии $a$ и $b$. Для этого определим предельную ошибку для каждого показателя ($\\Delta_a$ и $\\Delta_b$),\n",
    "\n",
    "используя значение $t_{кр}$, равное 2.306 (переменная **t_cr**):"
   ]
  },
  {
   "cell_type": "code",
   "execution_count": 17,
   "metadata": {
    "id": "pW5Qj3ryVWDt"
   },
   "outputs": [],
   "source": [
    "t_cr = 2.306"
   ]
  },
  {
   "cell_type": "code",
   "execution_count": 18,
   "metadata": {
    "id": "wfIm3E5xVWDy",
    "outputId": "d4a9f8de-fbbe-4763-951e-c62495b79bc4"
   },
   "outputs": [
    {
     "data": {
      "text/plain": [
       "130.2117433518716"
      ]
     },
     "execution_count": 18,
     "metadata": {},
     "output_type": "execute_result"
    }
   ],
   "source": [
    "delta_a = t_cr * m_a\n",
    "delta_a"
   ]
  },
  {
   "cell_type": "code",
   "execution_count": 19,
   "metadata": {
    "id": "gF3fKd8OVWD5",
    "outputId": "7f6bfc7d-2bbe-4043-f6ff-84eef9cf8a77"
   },
   "outputs": [
    {
     "data": {
      "text/plain": [
       "1.109376926849979"
      ]
     },
     "execution_count": 19,
     "metadata": {},
     "output_type": "execute_result"
    }
   ],
   "source": [
    "delta_b = t_cr * m_b\n",
    "delta_b"
   ]
  },
  {
   "cell_type": "markdown",
   "metadata": {
    "id": "sHUTKIhTVWD-"
   },
   "source": [
    "Найдем границы доверительных интервалов $\\gamma_{a_{min}}, \\gamma_{a_{max}}, \\gamma_{b_{min}}, \\gamma_{b_{max}}$:"
   ]
  },
  {
   "cell_type": "code",
   "execution_count": 20,
   "metadata": {
    "id": "mv8YJBn6VWEB",
    "outputId": "04bd75a0-b0ee-4a86-e29a-75a94bebbc38"
   },
   "outputs": [
    {
     "data": {
      "text/plain": [
       "313.965613972488"
      ]
     },
     "execution_count": 20,
     "metadata": {},
     "output_type": "execute_result"
    }
   ],
   "source": [
    "gamma_a_min = a - delta_a\n",
    "gamma_a_min"
   ]
  },
  {
   "cell_type": "code",
   "execution_count": 21,
   "metadata": {
    "id": "K7kHFohfVWER",
    "outputId": "b1fe9679-3ccb-4c06-dd2b-888e3cc8a4ea"
   },
   "outputs": [
    {
     "data": {
      "text/plain": [
       "574.3891006762312"
      ]
     },
     "execution_count": 21,
     "metadata": {},
     "output_type": "execute_result"
    }
   ],
   "source": [
    "gamma_a_max = a + delta_a\n",
    "gamma_a_max"
   ]
  },
  {
   "cell_type": "code",
   "execution_count": 22,
   "metadata": {
    "id": "adNd5XPZVWEZ",
    "outputId": "96112003-d302-454f-b790-42f493d092ca"
   },
   "outputs": [
    {
     "data": {
      "text/plain": [
       "1.511161955552786"
      ]
     },
     "execution_count": 22,
     "metadata": {},
     "output_type": "execute_result"
    }
   ],
   "source": [
    "gamma_b_min = b - delta_b\n",
    "gamma_b_min"
   ]
  },
  {
   "cell_type": "code",
   "execution_count": 23,
   "metadata": {
    "id": "QYwAhhdHVWEf",
    "outputId": "0d80891f-a7c9-4e5a-fb74-f7ac1454d583"
   },
   "outputs": [
    {
     "data": {
      "text/plain": [
       "3.729915809252744"
      ]
     },
     "execution_count": 23,
     "metadata": {},
     "output_type": "execute_result"
    }
   ],
   "source": [
    "gamma_b_max = b + delta_b\n",
    "gamma_b_max"
   ]
  },
  {
   "cell_type": "markdown",
   "metadata": {
    "id": "KzUe1mDhVWEk"
   },
   "source": [
    "Приходим к выводу о том, что с вероятностью $p = 1 - \\alpha = 0.95$ параметры $a$ и $b$, находясь в указанных границах, \n",
    "\n",
    "являются статистически значимыми и отличны от нуля."
   ]
  },
  {
   "cell_type": "markdown",
   "metadata": {},
   "source": [
    "##### 1.2. Посчитаем коэффициенты линейной регрессии, используя численное решение системы уравнений частных производных по коэффициентам a и b"
   ]
  },
  {
   "cell_type": "markdown",
   "metadata": {
    "id": "KRrGRxPwFpEF"
   },
   "source": [
    "\n",
    "\n",
    "Представим уравнение $y = a + bx$ в неявном виде\n",
    "### $$y - a - b\\cdot x = 0$$\n",
    "\n",
    "Найдем частные производные"
   ]
  },
  {
   "cell_type": "code",
   "execution_count": 24,
   "metadata": {
    "scrolled": true
   },
   "outputs": [
    {
     "data": {
      "text/latex": [
       "$\\displaystyle \\left(- a - b \\xi + yi\\right)^{2}$"
      ],
      "text/plain": [
       "(-a - b*xi + yi)**2"
      ]
     },
     "execution_count": 24,
     "metadata": {},
     "output_type": "execute_result"
    }
   ],
   "source": [
    "from matplotlib import pylab as plt\n",
    "import numpy as np\n",
    "%matplotlib inline\n",
    "from scipy.optimize import fsolve\n",
    "import math\n",
    "xi, yi, a, b =symbols('xi yi a b')\n",
    "f=(yi - a - b * xi)**2\n",
    "f"
   ]
  },
  {
   "cell_type": "code",
   "execution_count": 25,
   "metadata": {
    "scrolled": true
   },
   "outputs": [
    {
     "name": "stdout",
     "output_type": "stream",
     "text": [
      "Производная первого порядка по a:  2*a + 2*b*xi - 2*yi\n"
     ]
    }
   ],
   "source": [
    "print(f\"Производная первого порядка по a: \", diff(f, a))"
   ]
  },
  {
   "cell_type": "code",
   "execution_count": 26,
   "metadata": {
    "scrolled": true
   },
   "outputs": [
    {
     "name": "stdout",
     "output_type": "stream",
     "text": [
      "Производная первого порядка по b:  -2*xi*(-a - b*xi + yi)\n"
     ]
    }
   ],
   "source": [
    "print(f\"Производная первого порядка по b: \", diff(f,b))"
   ]
  },
  {
   "cell_type": "code",
   "execution_count": 27,
   "metadata": {
    "scrolled": false
   },
   "outputs": [
    {
     "name": "stdout",
     "output_type": "stream",
     "text": [
      "Коэффициенты a = 444.1773573243596, b = 2.6205388824027653\n"
     ]
    },
    {
     "data": {
      "text/plain": [
       "[<matplotlib.lines.Line2D at 0x13734988>]"
      ]
     },
     "execution_count": 27,
     "metadata": {},
     "output_type": "execute_result"
    },
    {
     "data": {
      "image/png": "[encoded data removed]",
      "text/plain": [
       "<Figure size 432x288 with 1 Axes>"
      ]
     },
     "metadata": {
      "needs_background": "light"
     },
     "output_type": "display_data"
    }
   ],
   "source": [
    "from sympy import *\n",
    "import math\n",
    "import pandas as pd\n",
    "init_printing()\n",
    "from scipy.optimize import fsolve\n",
    "xi = zp\n",
    "yi = ks\n",
    "\n",
    "def equations(p):\n",
    "    a, b = p\n",
    "    # Запись системы уравнений\n",
    "    return ((-2*xi*(-a - b*xi + yi)).sum(), (2*a + 2*b*xi - 2*yi).sum())\n",
    "\n",
    "# Численное решение системы уравнений\n",
    "a, b =  fsolve(equations, (0, 0))\n",
    "print (f\"Коэффициенты a = {a}, b = {b}\")\n",
    "\n",
    "x = zp\n",
    "y=a+b*x\n",
    "\n",
    "plt.scatter(xi,yi, c='black')\n",
    "plt.plot(x,y, c='r')"
   ]
  },
  {
   "cell_type": "markdown",
   "metadata": {},
   "source": [
    "Из графика расположения точек видно, что они распологаются не по прямой, а на изогнутой линии. Попробуем аппроксимировать точки с помощью квадратного трехчлена"
   ]
  },
  {
   "cell_type": "code",
   "execution_count": 28,
   "metadata": {
    "scrolled": true
   },
   "outputs": [
    {
     "data": {
      "image/png": "[encoded data removed]",
      "text/latex": [
       "$\\displaystyle \\left(- a - b \\xi^{3} - d \\xi - n \\xi^{2} + yi\\right)^{2}$"
      ],
      "text/plain": [
       "                             2\n",
       "⎛        3            2     ⎞ \n",
       "⎝-a - b⋅ξ  - d⋅ξ - n⋅ξ  + yi⎠ "
      ]
     },
     "execution_count": 28,
     "metadata": {},
     "output_type": "execute_result"
    }
   ],
   "source": [
    "from matplotlib import pylab as plt\n",
    "import numpy as np\n",
    "%matplotlib inline\n",
    "from scipy.optimize import fsolve\n",
    "import math\n",
    "xi, yi, a, b, n, d =symbols('xi yi a b n d')\n",
    "f=(yi - a - b * xi**3 - n*xi**2 - d*xi)**2\n",
    "f"
   ]
  },
  {
   "cell_type": "code",
   "execution_count": 29,
   "metadata": {
    "scrolled": true
   },
   "outputs": [
    {
     "name": "stdout",
     "output_type": "stream",
     "text": [
      "Производная первого порядка по a:  2*a + 2*b*xi**3 + 2*d*xi + 2*n*xi**2 - 2*yi\n"
     ]
    }
   ],
   "source": [
    "print(f\"Производная первого порядка по a: \", diff(f, a))"
   ]
  },
  {
   "cell_type": "code",
   "execution_count": 30,
   "metadata": {
    "scrolled": true
   },
   "outputs": [
    {
     "name": "stdout",
     "output_type": "stream",
     "text": [
      "Производная первого порядка по b:  -2*xi**3*(-a - b*xi**3 - d*xi - n*xi**2 + yi)\n"
     ]
    }
   ],
   "source": [
    "print(f\"Производная первого порядка по b: \", diff(f,b))"
   ]
  },
  {
   "cell_type": "code",
   "execution_count": 31,
   "metadata": {
    "scrolled": true
   },
   "outputs": [
    {
     "name": "stdout",
     "output_type": "stream",
     "text": [
      "Производная первого порядка по n :  -2*xi**2*(-a - b*xi**3 - d*xi - n*xi**2 + yi)\n"
     ]
    }
   ],
   "source": [
    "print(f\"Производная первого порядка по n : \", diff(f,n))"
   ]
  },
  {
   "cell_type": "code",
   "execution_count": 32,
   "metadata": {},
   "outputs": [
    {
     "name": "stdout",
     "output_type": "stream",
     "text": [
      "Производная первого порядка по d :  -2*xi*(-a - b*xi**3 - d*xi - n*xi**2 + yi)\n"
     ]
    }
   ],
   "source": [
    "print(f\"Производная первого порядка по d : \", diff(f, d))"
   ]
  },
  {
   "cell_type": "code",
   "execution_count": 33,
   "metadata": {
    "scrolled": false
   },
   "outputs": [
    {
     "name": "stdout",
     "output_type": "stream",
     "text": [
      "-177.52827193548552 0.000409381317308962 -0.16748220996082136 22.627951040379443\n"
     ]
    },
    {
     "data": {
      "text/plain": [
       "[<matplotlib.lines.Line2D at 0x13a0a988>]"
      ]
     },
     "execution_count": 33,
     "metadata": {},
     "output_type": "execute_result"
    },
    {
     "data": {
      "image/png": "[encoded data removed]",
      "text/plain": [
       "<Figure size 432x288 with 1 Axes>"
      ]
     },
     "metadata": {
      "needs_background": "light"
     },
     "output_type": "display_data"
    }
   ],
   "source": [
    "from sympy import *\n",
    "import math\n",
    "import pandas as pd\n",
    "init_printing()\n",
    "from scipy.optimize import fsolve\n",
    "xi = zp\n",
    "yi = ks\n",
    "\n",
    "def equations(p):\n",
    "    a, b, n, d  = p\n",
    "    # Запись системы уравнений\n",
    "    return ((-2*xi*(-a - b*xi**3 - d*xi - n*xi**2 + yi)).sum(), (-2*xi**2*(-a - b*xi**3 - d*xi - n*xi**2 + yi)).sum(), (-2*xi**3*(-a - b*xi**3 - d*xi - n*xi**2 + yi)).sum(), (2*a + 2*b*xi**3 + 2*d*xi + 2*n*xi**2 - 2*yi).sum())\n",
    "\n",
    "# Численное решение системы уравнений\n",
    "a, b, n, d  =  fsolve(equations, (1, 1, 1, 1))\n",
    "print (a, b, n, d)\n",
    "\n",
    "x = np.linspace(25, 200, 200)\n",
    "y=a+b*x**3+n*x**2+d*x\n",
    "\n",
    "plt.scatter(xi,yi, c='black')\n",
    "plt.plot(x,y, c='r')"
   ]
  },
  {
   "cell_type": "markdown",
   "metadata": {},
   "source": [
    "Видим, что кубический многочле лучше приближает график точек. Оценим насколько хороша наша модель на основе кубического многочлена"
   ]
  },
  {
   "cell_type": "markdown",
   "metadata": {
    "id": "RgW1rXkEVWCR"
   },
   "source": [
    "С помощью полученного уравнения посчитаем значения, предсказанные моделью значения скорингового балла заемщиков:"
   ]
  },
  {
   "cell_type": "code",
   "execution_count": 34,
   "metadata": {
    "colab": {
     "base_uri": "https://localhost:8080/"
    },
    "id": "1pStjYk9VWCS",
    "outputId": "67f28152-dde5-40c2-f347-5116d8d9d5e3"
   },
   "outputs": [
    {
     "data": {
      "text/plain": [
       "array([426.83653126, 538.88292225, 883.62110157, 923.82407618,\n",
       "       485.81863805, 726.18326392, 620.46577975, 829.97660592,\n",
       "       833.49294578, 829.89813532])"
      ]
     },
     "execution_count": 34,
     "metadata": {},
     "output_type": "execute_result"
    }
   ],
   "source": [
    "ks_pred = a+b*zp**3+n*zp**2+d*zp\n",
    "ks_pred"
   ]
  },
  {
   "cell_type": "markdown",
   "metadata": {
    "id": "ymhf8BfBVWCc"
   },
   "source": [
    "Качество модели найдем с помощью средней ошибки аппроксимации $\\overline {A}$:"
   ]
  },
  {
   "cell_type": "code",
   "execution_count": 35,
   "metadata": {
    "id": "bv3vJejlVWCg",
    "outputId": "37345701-3c7a-439c-a8d8-b41b796f3364",
    "scrolled": true
   },
   "outputs": [
    {
     "data": {
      "image/png": "[encoded data removed]",
      "text/latex": [
       "$\\displaystyle 4.671192751922036$"
      ],
      "text/plain": [
       "4.671192751922036"
      ]
     },
     "execution_count": 35,
     "metadata": {},
     "output_type": "execute_result"
    }
   ],
   "source": [
    "A_mean = 100 * np.mean(np.abs((ks - ks_pred) / ks))\n",
    "A_mean"
   ]
  },
  {
   "cell_type": "markdown",
   "metadata": {
    "id": "2lpGd6eKVWCw"
   },
   "source": [
    "Так как $\\overline {A}$ равна 4,7%, что значительно ниже 8-10 %, то модель очень хорошо описывает эмпирические данные."
   ]
  },
  {
   "cell_type": "code",
   "execution_count": 36,
   "metadata": {},
   "outputs": [
    {
     "data": {
      "image/png": "[encoded data removed]",
      "text/latex": [
       "$\\displaystyle 40.99433991816799$"
      ],
      "text/plain": [
       "40.99433991816799"
      ]
     },
     "execution_count": 36,
     "metadata": {},
     "output_type": "execute_result"
    }
   ],
   "source": [
    "from sklearn.metrics import mean_squared_error\n",
    "from math import sqrt\n",
    "\n",
    "rmse = sqrt(mean_squared_error(yi, ks_pred))\n",
    "rmse"
   ]
  },
  {
   "cell_type": "code",
   "execution_count": 37,
   "metadata": {},
   "outputs": [
    {
     "data": {
      "image/png": "[encoded data removed]",
      "text/latex": [
       "$\\displaystyle 30.918658568408368$"
      ],
      "text/plain": [
       "30.918658568408368"
      ]
     },
     "execution_count": 37,
     "metadata": {},
     "output_type": "execute_result"
    }
   ],
   "source": [
    "from sklearn.metrics import mean_absolute_error\n",
    "mean_absolute_error(yi, ks_pred)"
   ]
  },
  {
   "cell_type": "markdown",
   "metadata": {},
   "source": [
    "RMSE и MAE также у данной модели лучше чем у линейной. Т.е. апроксимация на основе кубического многочлена обеспечивает более качественные предсказания. Применяя этот подход на практике, нужно контролировать преобучение. "
   ]
  },
  {
   "cell_type": "markdown",
   "metadata": {},
   "source": [
    "##### 1.3. Посчитаем коэффициенты линейной регрессии, используя матричный метод"
   ]
  },
  {
   "cell_type": "code",
   "execution_count": 71,
   "metadata": {},
   "outputs": [
    {
     "data": {
      "text/plain": [
       "array([[ 35],\n",
       "       [ 45],\n",
       "       [190],\n",
       "       [200],\n",
       "       [ 40],\n",
       "       [ 70],\n",
       "       [ 54],\n",
       "       [150],\n",
       "       [120],\n",
       "       [110]])"
      ]
     },
     "execution_count": 71,
     "metadata": {},
     "output_type": "execute_result"
    }
   ],
   "source": [
    "zp = zp.reshape((10, 1))\n",
    "zp"
   ]
  },
  {
   "cell_type": "code",
   "execution_count": 72,
   "metadata": {
    "scrolled": true
   },
   "outputs": [
    {
     "data": {
      "text/plain": [
       "array([[401],\n",
       "       [574],\n",
       "       [874],\n",
       "       [919],\n",
       "       [459],\n",
       "       [739],\n",
       "       [653],\n",
       "       [902],\n",
       "       [746],\n",
       "       [832]])"
      ]
     },
     "execution_count": 72,
     "metadata": {},
     "output_type": "execute_result"
    }
   ],
   "source": [
    "ks = ks.reshape((10, 1))\n",
    "ks"
   ]
  },
  {
   "cell_type": "code",
   "execution_count": 74,
   "metadata": {
    "scrolled": true
   },
   "outputs": [
    {
     "data": {
      "text/plain": [
       "array([[  1.,  35.],\n",
       "       [  1.,  45.],\n",
       "       [  1., 190.],\n",
       "       [  1., 200.],\n",
       "       [  1.,  40.],\n",
       "       [  1.,  70.],\n",
       "       [  1.,  54.],\n",
       "       [  1., 150.],\n",
       "       [  1., 120.],\n",
       "       [  1., 110.]])"
      ]
     },
     "execution_count": 74,
     "metadata": {},
     "output_type": "execute_result"
    }
   ],
   "source": [
    "zp_i = np.hstack([np.ones((10,1)), zp])\n",
    "zp_i"
   ]
  },
  {
   "cell_type": "code",
   "execution_count": 76,
   "metadata": {
    "scrolled": true
   },
   "outputs": [
    {
     "name": "stdout",
     "output_type": "stream",
     "text": [
      "[[444.17735732]\n",
      " [  2.62053888]]\n",
      "[[5.88982042]]\n"
     ]
    }
   ],
   "source": [
    "b_i = np.dot(np.linalg.inv(np.dot(zp_i.T, zp_i)), zp_i.T @ ks)\n",
    "b = np.dot(np.linalg.inv(np.dot(zp.T, zp)), zp.T @ ks)\n",
    "print(b_i)\n",
    "print(b)"
   ]
  },
  {
   "cell_type": "markdown",
   "metadata": {},
   "source": [
    "Видим теже коэффициенты d случае с интерсептом и другой коэффициент - без интерсепта. Посмотрим как это выглядет на графике"
   ]
  },
  {
   "cell_type": "code",
   "execution_count": 84,
   "metadata": {},
   "outputs": [
    {
     "data": {
      "text/plain": [
       "array([444.17735732])"
      ]
     },
     "execution_count": 84,
     "metadata": {},
     "output_type": "execute_result"
    }
   ],
   "source": [
    "b_i[0]"
   ]
  },
  {
   "cell_type": "code",
   "execution_count": 86,
   "metadata": {},
   "outputs": [
    {
     "data": {
      "text/plain": [
       "[<matplotlib.lines.Line2D at 0x14d59788>]"
      ]
     },
     "execution_count": 86,
     "metadata": {},
     "output_type": "execute_result"
    },
    {
     "data": {
      "image/png": "[encoded data removed]",
      "text/plain": [
       "<Figure size 432x288 with 1 Axes>"
      ]
     },
     "metadata": {
      "needs_background": "light"
     },
     "output_type": "display_data"
    }
   ],
   "source": [
    "x = zp\n",
    "y_i=b_i[0]+b_i[1]*x\n",
    "y=b*x\n",
    "\n",
    "\n",
    "plt.scatter(zp, ks, c='black')\n",
    "plt.plot(x, y_i, c='r')\n",
    "plt.plot(x, y, c='g')"
   ]
  },
  {
   "cell_type": "markdown",
   "metadata": {},
   "source": [
    "#### 2. Посчитать коэффициент линейной регрессии при заработной плате (zp), используя градиентный спуск (без intercept)."
   ]
  },
  {
   "cell_type": "code",
   "execution_count": 88,
   "metadata": {
    "scrolled": true
   },
   "outputs": [
    {
     "data": {
      "image/png": "[encoded data removed]",
      "text/latex": [
       "$\\displaystyle \\frac{\\left(- b \\xi + yi\\right)^{2}}{n}$"
      ],
      "text/plain": [
       "           2\n",
       "(-b⋅ξ + yi) \n",
       "────────────\n",
       "     n      "
      ]
     },
     "execution_count": 88,
     "metadata": {},
     "output_type": "execute_result"
    }
   ],
   "source": [
    "from matplotlib import pylab as plt\n",
    "import numpy as np\n",
    "%matplotlib inline\n",
    "from scipy.optimize import fsolve\n",
    "import math\n",
    "xi, yi, b, n =symbols('xi yi b n')\n",
    "mse = (yi - b * xi)**2 / n\n",
    "mse"
   ]
  },
  {
   "cell_type": "code",
   "execution_count": 89,
   "metadata": {
    "scrolled": true
   },
   "outputs": [
    {
     "name": "stdout",
     "output_type": "stream",
     "text": [
      "Производная первого порядка по b:  -2*xi*(-b*xi + yi)/n\n"
     ]
    }
   ],
   "source": [
    "print(f\"Производная первого порядка по b: \", diff(mse,b))"
   ]
  },
  {
   "cell_type": "code",
   "execution_count": 90,
   "metadata": {},
   "outputs": [],
   "source": [
    "zp = np.array([35, 45, 190, 200, 40, 70, 54, 150, 120, 110])\n",
    "ks = np.array([401, 574, 874, 919, 459, 739, 653, 902, 746, 832])"
   ]
  },
  {
   "cell_type": "code",
   "execution_count": 91,
   "metadata": {},
   "outputs": [],
   "source": [
    "alpha = 1e-6"
   ]
  },
  {
   "cell_type": "code",
   "execution_count": 92,
   "metadata": {},
   "outputs": [],
   "source": [
    "def mse(B1, y = ks, X = zp, n = 10):\n",
    "    return np.sum((B1 * X - y)**2)/n"
   ]
  },
  {
   "cell_type": "code",
   "execution_count": 99,
   "metadata": {},
   "outputs": [
    {
     "name": "stdout",
     "output_type": "stream",
     "text": [
      "Iteration: 0, B1 = 9.8867514, mse = 276604.34287384455, mse_p = 110128.23867447997\n",
      "Iteration: 20, B1 = 8.175649111659467, mse = 128499.76985273242, mse_p = 62981.89510337564\n",
      "Iteration: 40, B1 = 7.197076620784042, mse = 80059.94879955596, mse_p = 36019.09154778686\n",
      "Iteration: 60, B1 = 6.6374349638104855, mse = 64216.979093757036, mse_p = 20599.17304486307\n",
      "Iteration: 80, B1 = 6.317378159495538, mse = 59035.29832694914, mse_p = 11780.583904212464\n",
      "Iteration: 100, B1 = 6.134338965197076, mse = 57340.5519462072, mse_p = 6737.268375868063\n",
      "Iteration: 120, B1 = 6.029659588918414, mse = 56786.25973402847, mse_p = 3853.01658538685\n",
      "Iteration: 140, B1 = 5.969793876221811, mse = 56604.97015585129, mse_p = 2203.524630314796\n",
      "Iteration: 160, B1 = 5.935556916812233, mse = 56545.676681338155, mse_p = 1260.1868403108306\n",
      "Iteration: 180, B1 = 5.915976937942634, mse = 56526.283861545686, mse_p = 720.6957665209875\n",
      "Iteration: 200, B1 = 5.904779227072703, mse = 56519.94114908718, mse_p = 412.1629993796073\n",
      "Iteration: 220, B1 = 5.898375301432048, mse = 56517.866669884985, mse_p = 235.71435541750088\n",
      "Iteration: 240, B1 = 5.8947129222112045, mse = 56517.18818036042, mse_p = 134.8040882697601\n",
      "Iteration: 260, B1 = 5.892618422320056, mse = 56516.96627018923, mse_p = 77.09391386896505\n",
      "Iteration: 280, B1 = 5.891420586287935, mse = 56516.89369114077, mse_p = 44.089698108723496\n",
      "Iteration: 300, B1 = 5.890735548696904, mse = 56516.86995307483, mse_p = 25.21472035553643\n",
      "Iteration: 320, B1 = 5.890343778464134, mse = 56516.86218918447, mse_p = 14.420196777973615\n",
      "Iteration: 340, B1 = 5.890119726649614, mse = 56516.85964988773, mse_p = 8.246852322137329\n",
      "Iteration: 360, B1 = 5.8899915923214, mse = 56516.85881937265, mse_p = 4.71634154999856\n",
      "Iteration: 380, B1 = 5.88991831281638, mse = 56516.858547740245, mse_p = 2.6972566922700025\n",
      "Iteration: 400, B1 = 5.889876404563293, mse = 56516.8584588988, mse_p = 1.5425502133311966\n",
      "Iteration: 420, B1 = 5.8898524374025385, mse = 56516.85842984189, mse_p = 0.8821782396285016\n",
      "Iteration: 440, B1 = 5.88983873068006, mse = 56516.85842033838, mse_p = 0.5045141738260099\n",
      "Iteration: 460, B1 = 5.889830891860811, mse = 56516.8584172301, mse_p = 0.28852961929169396\n",
      "Iteration: 480, B1 = 5.889826408871726, mse = 56516.858416213516, mse_p = 0.1650089244380979\n"
     ]
    }
   ],
   "source": [
    "B1 = 10\n",
    "n = 10\n",
    "mse_p_list = []\n",
    "for i in range(0, 500):\n",
    "    B1 -= alpha * np.sum(-2*zp*(-B1*zp + ks))/n\n",
    "    mse_p_list.append(np.sum(-2*zp*(-B1*zp + ks)/n))\n",
    "    if i % 20 == 0:\n",
    "        print(f\"Iteration: {i}, B1 = {B1}, mse = {mse(B1)}, mse_p = {np.sum(-2*zp*(-B1*zp + ks)/n)}\")\n",
    "#         mse_p_list.append(np.sum(-2*zp*(-B1*zp + ks)/n))"
   ]
  },
  {
   "cell_type": "code",
   "execution_count": 100,
   "metadata": {
    "scrolled": false
   },
   "outputs": [
    {
     "data": {
      "image/png": "[encoded data removed]",
      "text/plain": [
       "<Figure size 432x288 with 1 Axes>"
      ]
     },
     "metadata": {
      "needs_background": "light"
     },
     "output_type": "display_data"
    }
   ],
   "source": [
    "x = np.linspace(0, 500, 500)\n",
    "y = mse_p_list\n",
    "\n",
    "# plt.scatter(xi,yi, c='black')\n",
    "plt.plot(x,y, c='r')\n",
    "plt.xlabel('Iteration')\n",
    "plt.ylabel('Значение производной функции MSE')\n",
    "plt.show()"
   ]
  },
  {
   "cell_type": "markdown",
   "metadata": {},
   "source": [
    "Посмотрим как будет выглядеть график линейной регресии бех интерсепта"
   ]
  },
  {
   "cell_type": "code",
   "execution_count": 97,
   "metadata": {
    "scrolled": true
   },
   "outputs": [
    {
     "data": {
      "text/plain": [
       "[<matplotlib.lines.Line2D at 0x14e1ad08>]"
      ]
     },
     "execution_count": 97,
     "metadata": {},
     "output_type": "execute_result"
    },
    {
     "data": {
      "image/png": "[encoded data removed]",
      "text/plain": [
       "<Figure size 432x288 with 1 Axes>"
      ]
     },
     "metadata": {
      "needs_background": "light"
     },
     "output_type": "display_data"
    }
   ],
   "source": [
    "x = np.linspace(25, 200, 200)\n",
    "y=B1*x\n",
    "\n",
    "plt.scatter(zp, ks, c='black')\n",
    "plt.plot(x,y, c='r')"
   ]
  },
  {
   "cell_type": "markdown",
   "metadata": {
    "id": "ymhf8BfBVWCc"
   },
   "source": [
    "Качество модели посмотрим с помощью средней ошибки аппроксимации $\\overline {A}$:"
   ]
  },
  {
   "cell_type": "code",
   "execution_count": 98,
   "metadata": {
    "id": "bv3vJejlVWCg",
    "outputId": "37345701-3c7a-439c-a8d8-b41b796f3364",
    "scrolled": false
   },
   "outputs": [
    {
     "data": {
      "image/png": "[encoded data removed]",
      "text/latex": [
       "$\\displaystyle 33.22548629008027$"
      ],
      "text/plain": [
       "33.22548629008027"
      ]
     },
     "execution_count": 98,
     "metadata": {},
     "output_type": "execute_result"
    }
   ],
   "source": [
    "ks_pred = B1*zp\n",
    "A_mean = 100 * np.mean(np.abs((ks - ks_pred) / ks))\n",
    "A_mean"
   ]
  },
  {
   "cell_type": "markdown",
   "metadata": {},
   "source": [
    "Видим, что ошибка достаточно высока"
   ]
  },
  {
   "cell_type": "markdown",
   "metadata": {},
   "source": [
    "#### 3. * (необязательная)Произвести вычисления как в пункте 2, но с вычислением intercept. Учесть, что изменение коэффициентов должно производиться на каждом шаге одновременно (то есть изменение одного коэффициента не должно влиять на изменение другого во время одной итерации)."
   ]
  },
  {
   "cell_type": "code",
   "execution_count": 51,
   "metadata": {},
   "outputs": [],
   "source": [
    "def mse(B1, A1, y = ks, X = zp, n = 10):\n",
    "    return np.sum((B1 * X - y)**2)/n"
   ]
  },
  {
   "cell_type": "code",
   "execution_count": 52,
   "metadata": {
    "scrolled": true
   },
   "outputs": [
    {
     "data": {
      "image/png": "[encoded data removed]",
      "text/latex": [
       "$\\displaystyle \\frac{\\left(- b \\xi + yi - а\\right)^{2}}{n}$"
      ],
      "text/plain": [
       "               2\n",
       "(-b⋅ξ + yi - а) \n",
       "────────────────\n",
       "       n        "
      ]
     },
     "execution_count": 52,
     "metadata": {},
     "output_type": "execute_result"
    }
   ],
   "source": [
    "from matplotlib import pylab as plt\n",
    "import numpy as np\n",
    "%matplotlib inline\n",
    "from scipy.optimize import fsolve\n",
    "import math\n",
    "xi, yi, a, b, n =symbols('xi yi а b n')\n",
    "mse = (yi - a - b * xi)**2 / n\n",
    "mse"
   ]
  },
  {
   "cell_type": "code",
   "execution_count": 53,
   "metadata": {
    "scrolled": true
   },
   "outputs": [
    {
     "name": "stdout",
     "output_type": "stream",
     "text": [
      "Производная первого порядка по a:  (2*b*xi - 2*yi + 2*а)/n\n"
     ]
    }
   ],
   "source": [
    "print(f\"Производная первого порядка по a: \", diff(mse,a))"
   ]
  },
  {
   "cell_type": "code",
   "execution_count": 54,
   "metadata": {
    "scrolled": true
   },
   "outputs": [
    {
     "name": "stdout",
     "output_type": "stream",
     "text": [
      "Производная первого порядка по b:  -2*xi*(-b*xi + yi - а)/n\n"
     ]
    }
   ],
   "source": [
    "print(f\"Производная первого порядка по b: \", diff(mse,b))"
   ]
  },
  {
   "cell_type": "code",
   "execution_count": 55,
   "metadata": {},
   "outputs": [],
   "source": [
    "zp = np.array([35, 45, 190, 200, 40, 70, 54, 150, 120, 110])\n",
    "ks = np.array([401, 574, 874, 919, 459, 739, 653, 902, 746, 832])"
   ]
  },
  {
   "cell_type": "code",
   "execution_count": 56,
   "metadata": {},
   "outputs": [],
   "source": [
    "alpha = 1e-6"
   ]
  },
  {
   "cell_type": "code",
   "execution_count": 57,
   "metadata": {},
   "outputs": [],
   "source": [
    "def mse(B1, A1, y = ks, X = zp, n = 10):\n",
    "    return np.sum((B1 * X + A1 - y)**2)/n"
   ]
  },
  {
   "cell_type": "code",
   "execution_count": 102,
   "metadata": {
    "scrolled": true
   },
   "outputs": [
    {
     "name": "stdout",
     "output_type": "stream",
     "text": [
      "Iteration: 0, B1 = 3.0493456150283818, A1 = 385.918, mse = 38380.03258033735\n",
      "Iteration: 100, B1 = 2.8783907345768562, A1 = 409.1445976925886, mse = 42707.16587846615\n",
      "Iteration: 200, B1 = 2.775591433146316, A1 = 423.1113122496693, mse = 46991.73651942278\n",
      "Iteration: 300, B1 = 2.7137757286358872, A1 = 431.50983527489984, mse = 50176.55083414378\n",
      "Iteration: 400, B1 = 2.676604451487642, A1 = 436.5600701541949, mse = 52311.64790547859\n",
      "Iteration: 500, B1 = 2.6542524641443834, A1 = 439.59689844643486, mse = 53675.080180173056\n",
      "Iteration: 600, B1 = 2.6408116739288485, A1 = 441.42301669577745, mse = 54523.70834825304\n",
      "Iteration: 700, B1 = 2.632729401921274, A1 = 442.52110573462903, mse = 55044.40955163223\n",
      "Iteration: 800, B1 = 2.6278693364223775, A1 = 443.1814132134466, mse = 55361.28052199094\n",
      "Iteration: 900, B1 = 2.6249468615747813, A1 = 443.5784720594564, mse = 55553.18254806497\n",
      "Iteration: 1000, B1 = 2.6231895068155158, A1 = 443.8172331400924, mse = 55669.06958475262\n",
      "Iteration: 1100, B1 = 2.6221327669251964, A1 = 443.96080594850446, mse = 55738.93305869823\n",
      "Iteration: 1200, B1 = 2.6214973236887573, A1 = 444.04713974821965, mse = 55781.0079441946\n",
      "Iteration: 1300, B1 = 2.6211152163126377, A1 = 444.099054348593, mse = 55806.33183645146\n",
      "Iteration: 1400, B1 = 2.6208854459122084, A1 = 444.13027185252344, mse = 55821.568110710956\n",
      "Iteration: 1500, B1 = 2.6207472794171025, A1 = 444.1490436921337, mse = 55830.73309012564\n"
     ]
    }
   ],
   "source": [
    "alpha_1 = 1e-5\n",
    "alpha_2 = 1e-2\n",
    "B1 = 10\n",
    "A1 = 400\n",
    "n = 10\n",
    "mse_list = []\n",
    "for i in range(0, 1501):\n",
    "    A1 -= alpha_2 * np.sum(2*B1*zp - 2*ks + 2*A1)/n\n",
    "    for j in range(0, 1501):\n",
    "        B1 -= alpha_1 * np.sum(-2*zp*(-A1 - B1*zp + ks))/n\n",
    "\n",
    "    mse_list.append(mse(B1, A1))\n",
    "#     if mse_list[-1] <= mse(B1, A1):\n",
    "#         print(f\"Iteration: {i}, B1 = {B1}, A1 = {A1}, mse = {mse(B1, A1)}\")\n",
    "#         break\n",
    "    if i % 100 == 0:\n",
    "        print(f\"Iteration: {i}, B1 = {B1}, A1 = {A1}, mse = {mse(B1, A1)}\")\n",
    "#         mse_p_list.append(np.sum(-2*zp*(-B1*zp + ks)/n))"
   ]
  },
  {
   "cell_type": "markdown",
   "metadata": {},
   "source": [
    "Видим, что численным методом с интерсептом мы получили те же самые коэффициенты"
   ]
  },
  {
   "cell_type": "markdown",
   "metadata": {},
   "source": [
    "Посмотрим как будет выглядеть график функции MSE"
   ]
  },
  {
   "cell_type": "code",
   "execution_count": 59,
   "metadata": {
    "scrolled": true
   },
   "outputs": [
    {
     "data": {
      "image/png": "[encoded data removed]",
      "text/plain": [
       "<Figure size 432x288 with 1 Axes>"
      ]
     },
     "metadata": {
      "needs_background": "light"
     },
     "output_type": "display_data"
    }
   ],
   "source": [
    "x = np.linspace(0, 1501, 1501)\n",
    "y = mse_list\n",
    "\n",
    "plt.plot(x,y, c='r')\n",
    "plt.xlabel('Iteration')\n",
    "plt.ylabel('Значение производной функции MSE')\n",
    "plt.show()"
   ]
  },
  {
   "cell_type": "markdown",
   "metadata": {
    "id": "ymhf8BfBVWCc"
   },
   "source": [
    "Качество модели посмотрим с помощью средней ошибки аппроксимации $\\overline {A}$:"
   ]
  },
  {
   "cell_type": "code",
   "execution_count": 60,
   "metadata": {
    "id": "bv3vJejlVWCg",
    "outputId": "37345701-3c7a-439c-a8d8-b41b796f3364",
    "scrolled": false
   },
   "outputs": [
    {
     "data": {
      "image/png": "[encoded data removed]",
      "text/latex": [
       "$\\displaystyle 11.469855043831563$"
      ],
      "text/plain": [
       "11.469855043831563"
      ]
     },
     "execution_count": 60,
     "metadata": {},
     "output_type": "execute_result"
    }
   ],
   "source": [
    "ks_pred = A1 + B1*zp\n",
    "A_mean = 100 * np.mean(np.abs((ks - ks_pred) / ks))\n",
    "A_mean"
   ]
  },
  {
   "cell_type": "markdown",
   "metadata": {},
   "source": [
    "Видим, что ошибка на уровне предыдущей модели линейной регрессии"
   ]
  },
  {
   "cell_type": "markdown",
   "metadata": {},
   "source": [
    "#### 4. Выберите тему для проектной работы по курсу Теории вероятностей и математической статистики и напишите ее в комментарии к Практическому заданию."
   ]
  },
  {
   "cell_type": "markdown",
   "metadata": {},
   "source": [
    "Я выбираю тему \"Линейная регрессия\""
   ]
  }
 ],
 "metadata": {
  "kernelspec": {
   "display_name": "Python 3",
   "language": "python",
   "name": "python3"
  },
  "language_info": {
   "codemirror_mode": {
    "name": "ipython",
    "version": 3
   },
   "file_extension": ".py",
   "mimetype": "text/x-python",
   "name": "python",
   "nbconvert_exporter": "python",
   "pygments_lexer": "ipython3",
   "version": "3.7.4"
  }
 },
 "nbformat": 4,
 "nbformat_minor": 2
}
